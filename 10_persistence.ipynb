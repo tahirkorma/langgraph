{
 "cells": [
  {
   "cell_type": "code",
   "execution_count": 3,
   "id": "3b10119f",
   "metadata": {},
   "outputs": [],
   "source": [
    "from langgraph.graph import StateGraph, START, END\n",
    "from typing import TypedDict\n",
    "from langchain_google_genai import ChatGoogleGenerativeAI\n",
    "from dotenv import load_dotenv\n",
    "from langgraph.checkpoint.memory import InMemorySaver"
   ]
  },
  {
   "cell_type": "code",
   "execution_count": 4,
   "id": "50d91fa9",
   "metadata": {},
   "outputs": [],
   "source": [
    "load_dotenv()\n",
    "\n",
    "llm = ChatGoogleGenerativeAI(model='gemini-2.0-flash')"
   ]
  },
  {
   "cell_type": "code",
   "execution_count": 5,
   "id": "65341b83",
   "metadata": {},
   "outputs": [],
   "source": [
    "class JokeState(TypedDict):\n",
    "\n",
    "    topic: str\n",
    "    joke: str\n",
    "    explanation: str"
   ]
  },
  {
   "cell_type": "code",
   "execution_count": 6,
   "id": "e9682e73",
   "metadata": {},
   "outputs": [],
   "source": [
    "def generate_joke(state: JokeState):\n",
    "\n",
    "    prompt = f'generate a joke on the topic {state[\"topic\"]}'\n",
    "    response = llm.invoke(prompt).content\n",
    "\n",
    "    return {'joke': response}"
   ]
  },
  {
   "cell_type": "code",
   "execution_count": 7,
   "id": "04402472",
   "metadata": {},
   "outputs": [],
   "source": [
    "def generate_explanation(state: JokeState):\n",
    "\n",
    "    prompt = f'write an explanation for the joke - {state[\"joke\"]}'\n",
    "    response = llm.invoke(prompt).content\n",
    "\n",
    "    return {'explanation': response}"
   ]
  },
  {
   "cell_type": "code",
   "execution_count": 8,
   "id": "6a085e2c",
   "metadata": {},
   "outputs": [],
   "source": [
    "graph = StateGraph(JokeState)\n",
    "\n",
    "\n",
    "graph.add_node('generate_joke', generate_joke)\n",
    "graph.add_node('generate_explanation', generate_explanation)\n",
    "\n",
    "graph.add_edge(START, 'generate_joke')\n",
    "graph.add_edge('generate_joke', 'generate_explanation')\n",
    "graph.add_edge('generate_explanation', END)\n",
    "\n",
    "checkpointer = InMemorySaver()\n",
    "\n",
    "workflow = graph.compile(checkpointer=checkpointer)"
   ]
  },
  {
   "cell_type": "code",
   "execution_count": 9,
   "id": "7d99d640",
   "metadata": {},
   "outputs": [
    {
     "data": {
      "image/png": "[encoded data removed]",
      "text/plain": [
       "<langgraph.graph.state.CompiledStateGraph object at 0x0000023F9286B8B0>"
      ]
     },
     "execution_count": 9,
     "metadata": {},
     "output_type": "execute_result"
    }
   ],
   "source": [
    "workflow"
   ]
  },
  {
   "cell_type": "code",
   "execution_count": 10,
   "id": "c9dae521",
   "metadata": {},
   "outputs": [
    {
     "data": {
      "text/plain": [
       "{'topic': 'santa-banta',\n",
       " 'joke': 'Okay, here\\'s a Santa-Banta joke:\\n\\nSanta is driving down the highway and gets pulled over by a police officer.\\n\\nOfficer: \"License and registration, please.\"\\n\\nSanta fumbles around and hands over his license. The officer examines it and says, \"Sir, it says here you need glasses.\"\\n\\nSanta: \"Oh no, I have contacts.\"\\n\\nOfficer: \"I don\\'t care who you know, you\\'re still getting a ticket!\"\\n\\nBanta, who\\'s in the passenger seat, leans over and yells, \"Santa, you idiot! You\\'re wearing your spectacles!\"',\n",
       " 'explanation': 'The humor in this Santa-Banta joke relies on a few layers of wordplay and misunderstanding:\\n\\n* **\"Contacts\" Misunderstanding:** The officer is stating that Santa\\'s license requires him to wear corrective lenses (glasses). Santa misinterprets \"contacts\" as referring to his social connections (\"who you know\"). He thinks the officer is asking if he knows someone who can get him out of the ticket.\\n\\n* **\"I don\\'t care who you know...\" - The Punchline Setup:** The officer\\'s response, \"I don\\'t care who you know, you\\'re still getting a ticket!\" plays on Santa\\'s misunderstanding. The officer is reiterating that Santa is getting a ticket *regardless* of any personal connections he might have. This line sets up the final punchline.\\n\\n* **Banta\\'s Revelation - The Punchline:** Banta, the stereotypical \"idiot\" of the Santa-Banta duo, then reveals the absurdity of the situation. He points out that Santa is, in fact, wearing glasses (\"spectacles\"). This reveals that Santa wasn\\'t just misunderstanding the officer, but also completely oblivious to the fact that he WAS wearing the corrective lenses the officer was concerned about.\\n\\n**Why it\\'s funny:**\\n\\n* **The Idiot Duo:** The joke plays on the established dynamic of Santa-Banta jokes, where one is usually naive or foolish.\\n* **Wordplay and Misunderstanding:** The double meaning of \"contacts\" is the core of the joke\\'s humor.\\n* **Absurdity:** The idea of someone needing glasses but not realizing they\\'re already wearing them is inherently absurd.\\n* **Relatability:** Even though the situation is exaggerated, we can all relate to moments of misunderstanding or overlooking something obvious.\\n\\nIn short, the joke is funny because it combines a classic \"idiot duo\" setup with wordplay, misunderstanding, and a dash of relatable absurdity.'}"
      ]
     },
     "execution_count": 10,
     "metadata": {},
     "output_type": "execute_result"
    }
   ],
   "source": [
    "config1 = {\"configurable\": {\"thread_id\":\"1\"}}\n",
    "workflow.invoke({'topic': 'santa-banta'}, config = config1)"
   ]
  },
  {
   "cell_type": "code",
   "execution_count": 11,
   "id": "cd791f5d",
   "metadata": {},
   "outputs": [
    {
     "data": {
      "text/plain": [
       "StateSnapshot(values={'topic': 'santa-banta', 'joke': 'Okay, here\\'s a Santa-Banta joke:\\n\\nSanta is driving down the highway and gets pulled over by a police officer.\\n\\nOfficer: \"License and registration, please.\"\\n\\nSanta fumbles around and hands over his license. The officer examines it and says, \"Sir, it says here you need glasses.\"\\n\\nSanta: \"Oh no, I have contacts.\"\\n\\nOfficer: \"I don\\'t care who you know, you\\'re still getting a ticket!\"\\n\\nBanta, who\\'s in the passenger seat, leans over and yells, \"Santa, you idiot! You\\'re wearing your spectacles!\"', 'explanation': 'The humor in this Santa-Banta joke relies on a few layers of wordplay and misunderstanding:\\n\\n* **\"Contacts\" Misunderstanding:** The officer is stating that Santa\\'s license requires him to wear corrective lenses (glasses). Santa misinterprets \"contacts\" as referring to his social connections (\"who you know\"). He thinks the officer is asking if he knows someone who can get him out of the ticket.\\n\\n* **\"I don\\'t care who you know...\" - The Punchline Setup:** The officer\\'s response, \"I don\\'t care who you know, you\\'re still getting a ticket!\" plays on Santa\\'s misunderstanding. The officer is reiterating that Santa is getting a ticket *regardless* of any personal connections he might have. This line sets up the final punchline.\\n\\n* **Banta\\'s Revelation - The Punchline:** Banta, the stereotypical \"idiot\" of the Santa-Banta duo, then reveals the absurdity of the situation. He points out that Santa is, in fact, wearing glasses (\"spectacles\"). This reveals that Santa wasn\\'t just misunderstanding the officer, but also completely oblivious to the fact that he WAS wearing the corrective lenses the officer was concerned about.\\n\\n**Why it\\'s funny:**\\n\\n* **The Idiot Duo:** The joke plays on the established dynamic of Santa-Banta jokes, where one is usually naive or foolish.\\n* **Wordplay and Misunderstanding:** The double meaning of \"contacts\" is the core of the joke\\'s humor.\\n* **Absurdity:** The idea of someone needing glasses but not realizing they\\'re already wearing them is inherently absurd.\\n* **Relatability:** Even though the situation is exaggerated, we can all relate to moments of misunderstanding or overlooking something obvious.\\n\\nIn short, the joke is funny because it combines a classic \"idiot duo\" setup with wordplay, misunderstanding, and a dash of relatable absurdity.'}, next=(), config={'configurable': {'thread_id': '1', 'checkpoint_ns': '', 'checkpoint_id': '1f09871c-69ca-6d7c-8002-7c5e54829f5c'}}, metadata={'source': 'loop', 'step': 2, 'parents': {}}, created_at='2025-09-23T11:38:07.936857+00:00', parent_config={'configurable': {'thread_id': '1', 'checkpoint_ns': '', 'checkpoint_id': '1f09871c-46ed-660d-8001-7f0593b9cc37'}}, tasks=(), interrupts=())"
      ]
     },
     "execution_count": 11,
     "metadata": {},
     "output_type": "execute_result"
    }
   ],
   "source": [
    "workflow.get_state(config1)"
   ]
  },
  {
   "cell_type": "code",
   "execution_count": 12,
   "metadata": {},
   "outputs": [
    {
     "data": {
      "text/plain": [
       "[StateSnapshot(values={'topic': 'santa-banta', 'joke': 'Okay, here\\'s a Santa-Banta joke:\\n\\nSanta is driving down the highway and gets pulled over by a police officer.\\n\\nOfficer: \"License and registration, please.\"\\n\\nSanta fumbles around and hands over his license. The officer examines it and says, \"Sir, it says here you need glasses.\"\\n\\nSanta: \"Oh no, I have contacts.\"\\n\\nOfficer: \"I don\\'t care who you know, you\\'re still getting a ticket!\"\\n\\nBanta, who\\'s in the passenger seat, leans over and yells, \"Santa, you idiot! You\\'re wearing your spectacles!\"', 'explanation': 'The humor in this Santa-Banta joke relies on a few layers of wordplay and misunderstanding:\\n\\n* **\"Contacts\" Misunderstanding:** The officer is stating that Santa\\'s license requires him to wear corrective lenses (glasses). Santa misinterprets \"contacts\" as referring to his social connections (\"who you know\"). He thinks the officer is asking if he knows someone who can get him out of the ticket.\\n\\n* **\"I don\\'t care who you know...\" - The Punchline Setup:** The officer\\'s response, \"I don\\'t care who you know, you\\'re still getting a ticket!\" plays on Santa\\'s misunderstanding. The officer is reiterating that Santa is getting a ticket *regardless* of any personal connections he might have. This line sets up the final punchline.\\n\\n* **Banta\\'s Revelation - The Punchline:** Banta, the stereotypical \"idiot\" of the Santa-Banta duo, then reveals the absurdity of the situation. He points out that Santa is, in fact, wearing glasses (\"spectacles\"). This reveals that Santa wasn\\'t just misunderstanding the officer, but also completely oblivious to the fact that he WAS wearing the corrective lenses the officer was concerned about.\\n\\n**Why it\\'s funny:**\\n\\n* **The Idiot Duo:** The joke plays on the established dynamic of Santa-Banta jokes, where one is usually naive or foolish.\\n* **Wordplay and Misunderstanding:** The double meaning of \"contacts\" is the core of the joke\\'s humor.\\n* **Absurdity:** The idea of someone needing glasses but not realizing they\\'re already wearing them is inherently absurd.\\n* **Relatability:** Even though the situation is exaggerated, we can all relate to moments of misunderstanding or overlooking something obvious.\\n\\nIn short, the joke is funny because it combines a classic \"idiot duo\" setup with wordplay, misunderstanding, and a dash of relatable absurdity.'}, next=(), config={'configurable': {'thread_id': '1', 'checkpoint_ns': '', 'checkpoint_id': '1f09871c-69ca-6d7c-8002-7c5e54829f5c'}}, metadata={'source': 'loop', 'step': 2, 'parents': {}}, created_at='2025-09-23T11:38:07.936857+00:00', parent_config={'configurable': {'thread_id': '1', 'checkpoint_ns': '', 'checkpoint_id': '1f09871c-46ed-660d-8001-7f0593b9cc37'}}, tasks=(), interrupts=()),\n",
       " StateSnapshot(values={'topic': 'santa-banta', 'joke': 'Okay, here\\'s a Santa-Banta joke:\\n\\nSanta is driving down the highway and gets pulled over by a police officer.\\n\\nOfficer: \"License and registration, please.\"\\n\\nSanta fumbles around and hands over his license. The officer examines it and says, \"Sir, it says here you need glasses.\"\\n\\nSanta: \"Oh no, I have contacts.\"\\n\\nOfficer: \"I don\\'t care who you know, you\\'re still getting a ticket!\"\\n\\nBanta, who\\'s in the passenger seat, leans over and yells, \"Santa, you idiot! You\\'re wearing your spectacles!\"'}, next=('generate_explanation',), config={'configurable': {'thread_id': '1', 'checkpoint_ns': '', 'checkpoint_id': '1f09871c-46ed-660d-8001-7f0593b9cc37'}}, metadata={'source': 'loop', 'step': 1, 'parents': {}}, created_at='2025-09-23T11:38:04.280986+00:00', parent_config={'configurable': {'thread_id': '1', 'checkpoint_ns': '', 'checkpoint_id': '1f09871c-3204-6a03-8000-958514d3ce26'}}, tasks=(PregelTask(id='9d7f9d35-4bc5-e49d-0ed5-af2d510e644f', name='generate_explanation', path=('__pregel_pull', 'generate_explanation'), error=None, interrupts=(), state=None, result={'explanation': 'The humor in this Santa-Banta joke relies on a few layers of wordplay and misunderstanding:\\n\\n* **\"Contacts\" Misunderstanding:** The officer is stating that Santa\\'s license requires him to wear corrective lenses (glasses). Santa misinterprets \"contacts\" as referring to his social connections (\"who you know\"). He thinks the officer is asking if he knows someone who can get him out of the ticket.\\n\\n* **\"I don\\'t care who you know...\" - The Punchline Setup:** The officer\\'s response, \"I don\\'t care who you know, you\\'re still getting a ticket!\" plays on Santa\\'s misunderstanding. The officer is reiterating that Santa is getting a ticket *regardless* of any personal connections he might have. This line sets up the final punchline.\\n\\n* **Banta\\'s Revelation - The Punchline:** Banta, the stereotypical \"idiot\" of the Santa-Banta duo, then reveals the absurdity of the situation. He points out that Santa is, in fact, wearing glasses (\"spectacles\"). This reveals that Santa wasn\\'t just misunderstanding the officer, but also completely oblivious to the fact that he WAS wearing the corrective lenses the officer was concerned about.\\n\\n**Why it\\'s funny:**\\n\\n* **The Idiot Duo:** The joke plays on the established dynamic of Santa-Banta jokes, where one is usually naive or foolish.\\n* **Wordplay and Misunderstanding:** The double meaning of \"contacts\" is the core of the joke\\'s humor.\\n* **Absurdity:** The idea of someone needing glasses but not realizing they\\'re already wearing them is inherently absurd.\\n* **Relatability:** Even though the situation is exaggerated, we can all relate to moments of misunderstanding or overlooking something obvious.\\n\\nIn short, the joke is funny because it combines a classic \"idiot duo\" setup with wordplay, misunderstanding, and a dash of relatable absurdity.'}),), interrupts=()),\n",
       " StateSnapshot(values={'topic': 'santa-banta'}, next=('generate_joke',), config={'configurable': {'thread_id': '1', 'checkpoint_ns': '', 'checkpoint_id': '1f09871c-3204-6a03-8000-958514d3ce26'}}, metadata={'source': 'loop', 'step': 0, 'parents': {}}, created_at='2025-09-23T11:38:02.088499+00:00', parent_config={'configurable': {'thread_id': '1', 'checkpoint_ns': '', 'checkpoint_id': '1f09871c-3204-6a02-bfff-6a1ea74f3b3a'}}, tasks=(PregelTask(id='f4a753d5-1464-ccec-e14e-872a32ac892d', name='generate_joke', path=('__pregel_pull', 'generate_joke'), error=None, interrupts=(), state=None, result={'joke': 'Okay, here\\'s a Santa-Banta joke:\\n\\nSanta is driving down the highway and gets pulled over by a police officer.\\n\\nOfficer: \"License and registration, please.\"\\n\\nSanta fumbles around and hands over his license. The officer examines it and says, \"Sir, it says here you need glasses.\"\\n\\nSanta: \"Oh no, I have contacts.\"\\n\\nOfficer: \"I don\\'t care who you know, you\\'re still getting a ticket!\"\\n\\nBanta, who\\'s in the passenger seat, leans over and yells, \"Santa, you idiot! You\\'re wearing your spectacles!\"'}),), interrupts=()),\n",
       " StateSnapshot(values={}, next=('__start__',), config={'configurable': {'thread_id': '1', 'checkpoint_ns': '', 'checkpoint_id': '1f09871c-3204-6a02-bfff-6a1ea74f3b3a'}}, metadata={'source': 'input', 'step': -1, 'parents': {}}, created_at='2025-09-23T11:38:02.088499+00:00', parent_config=None, tasks=(PregelTask(id='cfbee534-8b6b-ab5f-b306-465c113af148', name='__start__', path=('__pregel_pull', '__start__'), error=None, interrupts=(), state=None, result={'topic': 'santa-banta'}),), interrupts=())]"
      ]
     },
     "execution_count": 12,
     "metadata": {},
     "output_type": "execute_result"
    }
   ],
   "source": [
    "list(workflow.get_state_history(config1))"
   ]
  },
  {
   "cell_type": "code",
   "execution_count": 13,
   "id": "4c0961ff",
   "metadata": {},
   "outputs": [
    {
     "data": {
      "text/plain": [
       "{'topic': 'mobile phone',\n",
       " 'joke': 'Why did the mobile phone go to therapy?\\n\\nBecause it had too many unresolved issues... and constantly felt disconnected.',\n",
       " 'explanation': 'The joke plays on the double meaning of words associated with both mobile phones and mental health:\\n\\n*   **\"Unresolved issues\"**: This refers to both problems or bugs in the phone\\'s software (common technical issues with phones) and unresolved emotional or psychological problems in a person (a common reason for seeking therapy).\\n\\n*   **\"Disconnected\"**: This refers to the phone\\'s inability to connect to a network (a technical problem) and the feeling of emotional isolation or lack of connection with others (a common symptom of mental health issues).\\n\\nThe humor comes from applying human-like feelings and problems to an inanimate object (the mobile phone). We expect people to go to therapy for unresolved issues and feelings of disconnection, but it\\'s absurd to imagine a phone doing the same. The joke cleverly uses the technological vocabulary and applies it to a human emotional experience in a humorous way.'}"
      ]
     },
     "execution_count": 13,
     "metadata": {},
     "output_type": "execute_result"
    }
   ],
   "source": [
    "config2 = {\"configurable\": {\"thread_id\": \"2\"}}\n",
    "workflow.invoke({'topic': 'mobile phone'}, config=config2)"
   ]
  },
  {
   "cell_type": "code",
   "execution_count": 14,
   "id": "2ff8290f",
   "metadata": {},
   "outputs": [
    {
     "data": {
      "text/plain": [
       "StateSnapshot(values={'topic': 'mobile phone', 'joke': 'Why did the mobile phone go to therapy?\\n\\nBecause it had too many unresolved issues... and constantly felt disconnected.', 'explanation': 'The joke plays on the double meaning of words associated with both mobile phones and mental health:\\n\\n*   **\"Unresolved issues\"**: This refers to both problems or bugs in the phone\\'s software (common technical issues with phones) and unresolved emotional or psychological problems in a person (a common reason for seeking therapy).\\n\\n*   **\"Disconnected\"**: This refers to the phone\\'s inability to connect to a network (a technical problem) and the feeling of emotional isolation or lack of connection with others (a common symptom of mental health issues).\\n\\nThe humor comes from applying human-like feelings and problems to an inanimate object (the mobile phone). We expect people to go to therapy for unresolved issues and feelings of disconnection, but it\\'s absurd to imagine a phone doing the same. The joke cleverly uses the technological vocabulary and applies it to a human emotional experience in a humorous way.'}, next=(), config={'configurable': {'thread_id': '2', 'checkpoint_ns': '', 'checkpoint_id': '1f098724-0a67-6631-8002-8795a9777182'}}, metadata={'source': 'loop', 'step': 2, 'parents': {}}, created_at='2025-09-23T11:41:32.683012+00:00', parent_config={'configurable': {'thread_id': '2', 'checkpoint_ns': '', 'checkpoint_id': '1f098723-f36c-6917-8001-ead9181ce842'}}, tasks=(), interrupts=())"
      ]
     },
     "execution_count": 14,
     "metadata": {},
     "output_type": "execute_result"
    }
   ],
   "source": [
    "workflow.get_state(config2)"
   ]
  },
  {
   "cell_type": "code",
   "execution_count": 16,
   "id": "fef15fbd",
   "metadata": {},
   "outputs": [
    {
     "data": {
      "text/plain": [
       "[StateSnapshot(values={'topic': 'mobile phone', 'joke': 'Why did the mobile phone go to therapy?\\n\\nBecause it had too many unresolved issues... and constantly felt disconnected.', 'explanation': 'The joke plays on the double meaning of words associated with both mobile phones and mental health:\\n\\n*   **\"Unresolved issues\"**: This refers to both problems or bugs in the phone\\'s software (common technical issues with phones) and unresolved emotional or psychological problems in a person (a common reason for seeking therapy).\\n\\n*   **\"Disconnected\"**: This refers to the phone\\'s inability to connect to a network (a technical problem) and the feeling of emotional isolation or lack of connection with others (a common symptom of mental health issues).\\n\\nThe humor comes from applying human-like feelings and problems to an inanimate object (the mobile phone). We expect people to go to therapy for unresolved issues and feelings of disconnection, but it\\'s absurd to imagine a phone doing the same. The joke cleverly uses the technological vocabulary and applies it to a human emotional experience in a humorous way.'}, next=(), config={'configurable': {'thread_id': '2', 'checkpoint_ns': '', 'checkpoint_id': '1f098724-0a67-6631-8002-8795a9777182'}}, metadata={'source': 'loop', 'step': 2, 'parents': {}}, created_at='2025-09-23T11:41:32.683012+00:00', parent_config={'configurable': {'thread_id': '2', 'checkpoint_ns': '', 'checkpoint_id': '1f098723-f36c-6917-8001-ead9181ce842'}}, tasks=(), interrupts=()),\n",
       " StateSnapshot(values={'topic': 'mobile phone', 'joke': 'Why did the mobile phone go to therapy?\\n\\nBecause it had too many unresolved issues... and constantly felt disconnected.'}, next=('generate_explanation',), config={'configurable': {'thread_id': '2', 'checkpoint_ns': '', 'checkpoint_id': '1f098723-f36c-6917-8001-ead9181ce842'}}, metadata={'source': 'loop', 'step': 1, 'parents': {}}, created_at='2025-09-23T11:41:30.273410+00:00', parent_config={'configurable': {'thread_id': '2', 'checkpoint_ns': '', 'checkpoint_id': '1f098723-e9f2-6b32-8000-618d89dedb6e'}}, tasks=(PregelTask(id='b0e6c919-efc3-3786-3e90-b63a403cb789', name='generate_explanation', path=('__pregel_pull', 'generate_explanation'), error=None, interrupts=(), state=None, result={'explanation': 'The joke plays on the double meaning of words associated with both mobile phones and mental health:\\n\\n*   **\"Unresolved issues\"**: This refers to both problems or bugs in the phone\\'s software (common technical issues with phones) and unresolved emotional or psychological problems in a person (a common reason for seeking therapy).\\n\\n*   **\"Disconnected\"**: This refers to the phone\\'s inability to connect to a network (a technical problem) and the feeling of emotional isolation or lack of connection with others (a common symptom of mental health issues).\\n\\nThe humor comes from applying human-like feelings and problems to an inanimate object (the mobile phone). We expect people to go to therapy for unresolved issues and feelings of disconnection, but it\\'s absurd to imagine a phone doing the same. The joke cleverly uses the technological vocabulary and applies it to a human emotional experience in a humorous way.'}),), interrupts=()),\n",
       " StateSnapshot(values={'topic': 'mobile phone'}, next=('generate_joke',), config={'configurable': {'thread_id': '2', 'checkpoint_ns': '', 'checkpoint_id': '1f098723-e9f2-6b32-8000-618d89dedb6e'}}, metadata={'source': 'loop', 'step': 0, 'parents': {}}, created_at='2025-09-23T11:41:29.279774+00:00', parent_config={'configurable': {'thread_id': '2', 'checkpoint_ns': '', 'checkpoint_id': '1f098723-e9df-62b5-bfff-3742806b9d3b'}}, tasks=(PregelTask(id='6722f4d8-d1ab-b9d6-5068-f737cbc6cfba', name='generate_joke', path=('__pregel_pull', 'generate_joke'), error=None, interrupts=(), state=None, result={'joke': 'Why did the mobile phone go to therapy?\\n\\nBecause it had too many unresolved issues... and constantly felt disconnected.'}),), interrupts=()),\n",
       " StateSnapshot(values={}, next=('__start__',), config={'configurable': {'thread_id': '2', 'checkpoint_ns': '', 'checkpoint_id': '1f098723-e9df-62b5-bfff-3742806b9d3b'}}, metadata={'source': 'input', 'step': -1, 'parents': {}}, created_at='2025-09-23T11:41:29.271774+00:00', parent_config=None, tasks=(PregelTask(id='8c62c89d-276b-d974-32ba-561812bc70de', name='__start__', path=('__pregel_pull', '__start__'), error=None, interrupts=(), state=None, result={'topic': 'mobile phone'}),), interrupts=())]"
      ]
     },
     "execution_count": 16,
     "metadata": {},
     "output_type": "execute_result"
    }
   ],
   "source": [
    "list(workflow.get_state_history(config2))"
   ]
  },
  {
   "cell_type": "markdown",
   "id": "cc3fe537",
   "metadata": {},
   "source": [
    "Time Travel"
   ]
  },
  {
   "cell_type": "code",
   "execution_count": 19,
   "id": "d4e29b60",
   "metadata": {},
   "outputs": [
    {
     "data": {
      "text/plain": [
       "StateSnapshot(values={'topic': 'mobile phone'}, next=('generate_joke',), config={'configurable': {'thread_id': '2', 'checkpoint_id': '1f098723-e9f2-6b32-8000-618d89dedb6e'}}, metadata={'source': 'loop', 'step': 0, 'parents': {}}, created_at='2025-09-23T11:41:29.279774+00:00', parent_config={'configurable': {'thread_id': '2', 'checkpoint_ns': '', 'checkpoint_id': '1f098723-e9df-62b5-bfff-3742806b9d3b'}}, tasks=(PregelTask(id='6722f4d8-d1ab-b9d6-5068-f737cbc6cfba', name='generate_joke', path=('__pregel_pull', 'generate_joke'), error=None, interrupts=(), state=None, result={'joke': 'Why did the mobile phone go to therapy?\\n\\nBecause it had too many unresolved issues... and constantly felt disconnected.'}),), interrupts=())"
      ]
     },
     "execution_count": 19,
     "metadata": {},
     "output_type": "execute_result"
    }
   ],
   "source": [
    "workflow.get_state({\"configurable\": {\"thread_id\": \"2\", \"checkpoint_id\": \"1f098723-e9f2-6b32-8000-618d89dedb6e\"}})"
   ]
  },
  {
   "cell_type": "code",
   "execution_count": 20,
   "id": "2255735e",
   "metadata": {},
   "outputs": [
    {
     "data": {
      "text/plain": [
       "{'topic': 'mobile phone',\n",
       " 'joke': 'Why did the mobile phone break up with the charger?\\n\\nBecause it felt like they were just using each other!',\n",
       " 'explanation': 'The joke plays on the common phrase \"using each other\" in the context of a romantic relationship. Here\\'s how it works:\\n\\n* **Literal Meaning:** A mobile phone needs a charger to function (to get power). The charger, in turn, needs a phone to be useful (to deliver power). In this literal sense, they are \"using\" each other to achieve their respective purposes.\\n\\n* **Figurative Meaning (Relationship Context):** The phrase \"using each other\" in a relationship implies that the individuals are not genuinely interested in each other\\'s well-being or happiness. Instead, they are only with the other person for personal gain (e.g., money, status, convenience).\\n\\n* **The Humor:** The joke creates humor by applying the phrase \"using each other\" to the inanimate objects (phone and charger) as if they were in a relationship.  The phone, personified in the joke, feels that the relationship is transactional and lacks genuine connection, leading to the breakup. The absurdity of a phone having feelings and ending a relationship with its charger is what makes the joke funny.'}"
      ]
     },
     "execution_count": 20,
     "metadata": {},
     "output_type": "execute_result"
    }
   ],
   "source": [
    "workflow.invoke(None, {\"configurable\": {\"thread_id\": \"2\", \"checkpoint_id\": \"1f098723-e9f2-6b32-8000-618d89dedb6e\"}})"
   ]
  },
  {
   "cell_type": "code",
   "execution_count": 21,
   "id": "36f1d91c",
   "metadata": {},
   "outputs": [
    {
     "data": {
      "text/plain": [
       "[StateSnapshot(values={'topic': 'mobile phone', 'joke': 'Why did the mobile phone break up with the charger?\\n\\nBecause it felt like they were just using each other!', 'explanation': 'The joke plays on the common phrase \"using each other\" in the context of a romantic relationship. Here\\'s how it works:\\n\\n* **Literal Meaning:** A mobile phone needs a charger to function (to get power). The charger, in turn, needs a phone to be useful (to deliver power). In this literal sense, they are \"using\" each other to achieve their respective purposes.\\n\\n* **Figurative Meaning (Relationship Context):** The phrase \"using each other\" in a relationship implies that the individuals are not genuinely interested in each other\\'s well-being or happiness. Instead, they are only with the other person for personal gain (e.g., money, status, convenience).\\n\\n* **The Humor:** The joke creates humor by applying the phrase \"using each other\" to the inanimate objects (phone and charger) as if they were in a relationship.  The phone, personified in the joke, feels that the relationship is transactional and lacks genuine connection, leading to the breakup. The absurdity of a phone having feelings and ending a relationship with its charger is what makes the joke funny.'}, next=(), config={'configurable': {'thread_id': '2', 'checkpoint_ns': '', 'checkpoint_id': '1f09876b-4c95-64f5-8002-61ffa57a734d'}}, metadata={'source': 'loop', 'step': 2, 'parents': {}}, created_at='2025-09-23T12:13:25.514162+00:00', parent_config={'configurable': {'thread_id': '2', 'checkpoint_ns': '', 'checkpoint_id': '1f09876b-31b5-6e15-8001-1d3c02d51d56'}}, tasks=(), interrupts=()),\n",
       " StateSnapshot(values={'topic': 'mobile phone', 'joke': 'Why did the mobile phone break up with the charger?\\n\\nBecause it felt like they were just using each other!'}, next=('generate_explanation',), config={'configurable': {'thread_id': '2', 'checkpoint_ns': '', 'checkpoint_id': '1f09876b-31b5-6e15-8001-1d3c02d51d56'}}, metadata={'source': 'loop', 'step': 1, 'parents': {}}, created_at='2025-09-23T12:13:22.696347+00:00', parent_config={'configurable': {'thread_id': '2', 'checkpoint_ns': '', 'checkpoint_id': '1f098723-e9f2-6b32-8000-618d89dedb6e'}}, tasks=(PregelTask(id='a378174f-4612-5162-9051-857fdbaa78c6', name='generate_explanation', path=('__pregel_pull', 'generate_explanation'), error=None, interrupts=(), state=None, result={'explanation': 'The joke plays on the common phrase \"using each other\" in the context of a romantic relationship. Here\\'s how it works:\\n\\n* **Literal Meaning:** A mobile phone needs a charger to function (to get power). The charger, in turn, needs a phone to be useful (to deliver power). In this literal sense, they are \"using\" each other to achieve their respective purposes.\\n\\n* **Figurative Meaning (Relationship Context):** The phrase \"using each other\" in a relationship implies that the individuals are not genuinely interested in each other\\'s well-being or happiness. Instead, they are only with the other person for personal gain (e.g., money, status, convenience).\\n\\n* **The Humor:** The joke creates humor by applying the phrase \"using each other\" to the inanimate objects (phone and charger) as if they were in a relationship.  The phone, personified in the joke, feels that the relationship is transactional and lacks genuine connection, leading to the breakup. The absurdity of a phone having feelings and ending a relationship with its charger is what makes the joke funny.'}),), interrupts=()),\n",
       " StateSnapshot(values={'topic': 'mobile phone', 'joke': 'Why did the mobile phone go to therapy?\\n\\nBecause it had too many unresolved issues... and constantly felt disconnected.', 'explanation': 'The joke plays on the double meaning of words associated with both mobile phones and mental health:\\n\\n*   **\"Unresolved issues\"**: This refers to both problems or bugs in the phone\\'s software (common technical issues with phones) and unresolved emotional or psychological problems in a person (a common reason for seeking therapy).\\n\\n*   **\"Disconnected\"**: This refers to the phone\\'s inability to connect to a network (a technical problem) and the feeling of emotional isolation or lack of connection with others (a common symptom of mental health issues).\\n\\nThe humor comes from applying human-like feelings and problems to an inanimate object (the mobile phone). We expect people to go to therapy for unresolved issues and feelings of disconnection, but it\\'s absurd to imagine a phone doing the same. The joke cleverly uses the technological vocabulary and applies it to a human emotional experience in a humorous way.'}, next=(), config={'configurable': {'thread_id': '2', 'checkpoint_ns': '', 'checkpoint_id': '1f098724-0a67-6631-8002-8795a9777182'}}, metadata={'source': 'loop', 'step': 2, 'parents': {}}, created_at='2025-09-23T11:41:32.683012+00:00', parent_config={'configurable': {'thread_id': '2', 'checkpoint_ns': '', 'checkpoint_id': '1f098723-f36c-6917-8001-ead9181ce842'}}, tasks=(), interrupts=()),\n",
       " StateSnapshot(values={'topic': 'mobile phone', 'joke': 'Why did the mobile phone go to therapy?\\n\\nBecause it had too many unresolved issues... and constantly felt disconnected.'}, next=('generate_explanation',), config={'configurable': {'thread_id': '2', 'checkpoint_ns': '', 'checkpoint_id': '1f098723-f36c-6917-8001-ead9181ce842'}}, metadata={'source': 'loop', 'step': 1, 'parents': {}}, created_at='2025-09-23T11:41:30.273410+00:00', parent_config={'configurable': {'thread_id': '2', 'checkpoint_ns': '', 'checkpoint_id': '1f098723-e9f2-6b32-8000-618d89dedb6e'}}, tasks=(PregelTask(id='b0e6c919-efc3-3786-3e90-b63a403cb789', name='generate_explanation', path=('__pregel_pull', 'generate_explanation'), error=None, interrupts=(), state=None, result={'explanation': 'The joke plays on the double meaning of words associated with both mobile phones and mental health:\\n\\n*   **\"Unresolved issues\"**: This refers to both problems or bugs in the phone\\'s software (common technical issues with phones) and unresolved emotional or psychological problems in a person (a common reason for seeking therapy).\\n\\n*   **\"Disconnected\"**: This refers to the phone\\'s inability to connect to a network (a technical problem) and the feeling of emotional isolation or lack of connection with others (a common symptom of mental health issues).\\n\\nThe humor comes from applying human-like feelings and problems to an inanimate object (the mobile phone). We expect people to go to therapy for unresolved issues and feelings of disconnection, but it\\'s absurd to imagine a phone doing the same. The joke cleverly uses the technological vocabulary and applies it to a human emotional experience in a humorous way.'}),), interrupts=()),\n",
       " StateSnapshot(values={'topic': 'mobile phone'}, next=('generate_joke',), config={'configurable': {'thread_id': '2', 'checkpoint_ns': '', 'checkpoint_id': '1f098723-e9f2-6b32-8000-618d89dedb6e'}}, metadata={'source': 'loop', 'step': 0, 'parents': {}}, created_at='2025-09-23T11:41:29.279774+00:00', parent_config={'configurable': {'thread_id': '2', 'checkpoint_ns': '', 'checkpoint_id': '1f098723-e9df-62b5-bfff-3742806b9d3b'}}, tasks=(PregelTask(id='6722f4d8-d1ab-b9d6-5068-f737cbc6cfba', name='generate_joke', path=('__pregel_pull', 'generate_joke'), error=None, interrupts=(), state=None, result={'joke': 'Why did the mobile phone go to therapy?\\n\\nBecause it had too many unresolved issues... and constantly felt disconnected.'}),), interrupts=()),\n",
       " StateSnapshot(values={}, next=('__start__',), config={'configurable': {'thread_id': '2', 'checkpoint_ns': '', 'checkpoint_id': '1f098723-e9df-62b5-bfff-3742806b9d3b'}}, metadata={'source': 'input', 'step': -1, 'parents': {}}, created_at='2025-09-23T11:41:29.271774+00:00', parent_config=None, tasks=(PregelTask(id='8c62c89d-276b-d974-32ba-561812bc70de', name='__start__', path=('__pregel_pull', '__start__'), error=None, interrupts=(), state=None, result={'topic': 'mobile phone'}),), interrupts=())]"
      ]
     },
     "execution_count": 21,
     "metadata": {},
     "output_type": "execute_result"
    }
   ],
   "source": [
    "list(workflow.get_state_history(config2))"
   ]
  },
  {
   "cell_type": "markdown",
   "id": "89608951",
   "metadata": {},
   "source": [
    "Updating State"
   ]
  },
  {
   "cell_type": "code",
   "execution_count": 22,
   "id": "dd43da0c",
   "metadata": {},
   "outputs": [
    {
     "data": {
      "text/plain": [
       "{'configurable': {'thread_id': '2',\n",
       "  'checkpoint_ns': '',\n",
       "  'checkpoint_id': '1f09877c-1a65-6ef4-8001-d4a45644cc92'}}"
      ]
     },
     "execution_count": 22,
     "metadata": {},
     "output_type": "execute_result"
    }
   ],
   "source": [
    "workflow.update_state({\"configurable\": {\"thread_id\": \"2\", \"checkpoint_id\": \"1f098723-e9f2-6b32-8000-618d89dedb6e\", \"checkpoint_ns\": \"\"}}, {'topic':'instagram'})"
   ]
  },
  {
   "cell_type": "code",
   "execution_count": 23,
   "id": "8ad2cd97",
   "metadata": {},
   "outputs": [
    {
     "data": {
      "text/plain": [
       "[StateSnapshot(values={'topic': 'instagram'}, next=('generate_joke',), config={'configurable': {'thread_id': '2', 'checkpoint_ns': '', 'checkpoint_id': '1f09877c-1a65-6ef4-8001-d4a45644cc92'}}, metadata={'source': 'update', 'step': 1, 'parents': {}}, created_at='2025-09-23T12:20:56.592152+00:00', parent_config={'configurable': {'thread_id': '2', 'checkpoint_ns': '', 'checkpoint_id': '1f098723-e9f2-6b32-8000-618d89dedb6e'}}, tasks=(PregelTask(id='51e32f95-661c-dfa8-e59e-97297edca8a9', name='generate_joke', path=('__pregel_pull', 'generate_joke'), error=None, interrupts=(), state=None, result=None),), interrupts=()),\n",
       " StateSnapshot(values={'topic': 'mobile phone', 'joke': 'Why did the mobile phone break up with the charger?\\n\\nBecause it felt like they were just using each other!', 'explanation': 'The joke plays on the common phrase \"using each other\" in the context of a romantic relationship. Here\\'s how it works:\\n\\n* **Literal Meaning:** A mobile phone needs a charger to function (to get power). The charger, in turn, needs a phone to be useful (to deliver power). In this literal sense, they are \"using\" each other to achieve their respective purposes.\\n\\n* **Figurative Meaning (Relationship Context):** The phrase \"using each other\" in a relationship implies that the individuals are not genuinely interested in each other\\'s well-being or happiness. Instead, they are only with the other person for personal gain (e.g., money, status, convenience).\\n\\n* **The Humor:** The joke creates humor by applying the phrase \"using each other\" to the inanimate objects (phone and charger) as if they were in a relationship.  The phone, personified in the joke, feels that the relationship is transactional and lacks genuine connection, leading to the breakup. The absurdity of a phone having feelings and ending a relationship with its charger is what makes the joke funny.'}, next=(), config={'configurable': {'thread_id': '2', 'checkpoint_ns': '', 'checkpoint_id': '1f09876b-4c95-64f5-8002-61ffa57a734d'}}, metadata={'source': 'loop', 'step': 2, 'parents': {}}, created_at='2025-09-23T12:13:25.514162+00:00', parent_config={'configurable': {'thread_id': '2', 'checkpoint_ns': '', 'checkpoint_id': '1f09876b-31b5-6e15-8001-1d3c02d51d56'}}, tasks=(), interrupts=()),\n",
       " StateSnapshot(values={'topic': 'mobile phone', 'joke': 'Why did the mobile phone break up with the charger?\\n\\nBecause it felt like they were just using each other!'}, next=('generate_explanation',), config={'configurable': {'thread_id': '2', 'checkpoint_ns': '', 'checkpoint_id': '1f09876b-31b5-6e15-8001-1d3c02d51d56'}}, metadata={'source': 'loop', 'step': 1, 'parents': {}}, created_at='2025-09-23T12:13:22.696347+00:00', parent_config={'configurable': {'thread_id': '2', 'checkpoint_ns': '', 'checkpoint_id': '1f098723-e9f2-6b32-8000-618d89dedb6e'}}, tasks=(PregelTask(id='a378174f-4612-5162-9051-857fdbaa78c6', name='generate_explanation', path=('__pregel_pull', 'generate_explanation'), error=None, interrupts=(), state=None, result={'explanation': 'The joke plays on the common phrase \"using each other\" in the context of a romantic relationship. Here\\'s how it works:\\n\\n* **Literal Meaning:** A mobile phone needs a charger to function (to get power). The charger, in turn, needs a phone to be useful (to deliver power). In this literal sense, they are \"using\" each other to achieve their respective purposes.\\n\\n* **Figurative Meaning (Relationship Context):** The phrase \"using each other\" in a relationship implies that the individuals are not genuinely interested in each other\\'s well-being or happiness. Instead, they are only with the other person for personal gain (e.g., money, status, convenience).\\n\\n* **The Humor:** The joke creates humor by applying the phrase \"using each other\" to the inanimate objects (phone and charger) as if they were in a relationship.  The phone, personified in the joke, feels that the relationship is transactional and lacks genuine connection, leading to the breakup. The absurdity of a phone having feelings and ending a relationship with its charger is what makes the joke funny.'}),), interrupts=()),\n",
       " StateSnapshot(values={'topic': 'mobile phone', 'joke': 'Why did the mobile phone go to therapy?\\n\\nBecause it had too many unresolved issues... and constantly felt disconnected.', 'explanation': 'The joke plays on the double meaning of words associated with both mobile phones and mental health:\\n\\n*   **\"Unresolved issues\"**: This refers to both problems or bugs in the phone\\'s software (common technical issues with phones) and unresolved emotional or psychological problems in a person (a common reason for seeking therapy).\\n\\n*   **\"Disconnected\"**: This refers to the phone\\'s inability to connect to a network (a technical problem) and the feeling of emotional isolation or lack of connection with others (a common symptom of mental health issues).\\n\\nThe humor comes from applying human-like feelings and problems to an inanimate object (the mobile phone). We expect people to go to therapy for unresolved issues and feelings of disconnection, but it\\'s absurd to imagine a phone doing the same. The joke cleverly uses the technological vocabulary and applies it to a human emotional experience in a humorous way.'}, next=(), config={'configurable': {'thread_id': '2', 'checkpoint_ns': '', 'checkpoint_id': '1f098724-0a67-6631-8002-8795a9777182'}}, metadata={'source': 'loop', 'step': 2, 'parents': {}}, created_at='2025-09-23T11:41:32.683012+00:00', parent_config={'configurable': {'thread_id': '2', 'checkpoint_ns': '', 'checkpoint_id': '1f098723-f36c-6917-8001-ead9181ce842'}}, tasks=(), interrupts=()),\n",
       " StateSnapshot(values={'topic': 'mobile phone', 'joke': 'Why did the mobile phone go to therapy?\\n\\nBecause it had too many unresolved issues... and constantly felt disconnected.'}, next=('generate_explanation',), config={'configurable': {'thread_id': '2', 'checkpoint_ns': '', 'checkpoint_id': '1f098723-f36c-6917-8001-ead9181ce842'}}, metadata={'source': 'loop', 'step': 1, 'parents': {}}, created_at='2025-09-23T11:41:30.273410+00:00', parent_config={'configurable': {'thread_id': '2', 'checkpoint_ns': '', 'checkpoint_id': '1f098723-e9f2-6b32-8000-618d89dedb6e'}}, tasks=(PregelTask(id='b0e6c919-efc3-3786-3e90-b63a403cb789', name='generate_explanation', path=('__pregel_pull', 'generate_explanation'), error=None, interrupts=(), state=None, result={'explanation': 'The joke plays on the double meaning of words associated with both mobile phones and mental health:\\n\\n*   **\"Unresolved issues\"**: This refers to both problems or bugs in the phone\\'s software (common technical issues with phones) and unresolved emotional or psychological problems in a person (a common reason for seeking therapy).\\n\\n*   **\"Disconnected\"**: This refers to the phone\\'s inability to connect to a network (a technical problem) and the feeling of emotional isolation or lack of connection with others (a common symptom of mental health issues).\\n\\nThe humor comes from applying human-like feelings and problems to an inanimate object (the mobile phone). We expect people to go to therapy for unresolved issues and feelings of disconnection, but it\\'s absurd to imagine a phone doing the same. The joke cleverly uses the technological vocabulary and applies it to a human emotional experience in a humorous way.'}),), interrupts=()),\n",
       " StateSnapshot(values={'topic': 'mobile phone'}, next=('generate_joke',), config={'configurable': {'thread_id': '2', 'checkpoint_ns': '', 'checkpoint_id': '1f098723-e9f2-6b32-8000-618d89dedb6e'}}, metadata={'source': 'loop', 'step': 0, 'parents': {}}, created_at='2025-09-23T11:41:29.279774+00:00', parent_config={'configurable': {'thread_id': '2', 'checkpoint_ns': '', 'checkpoint_id': '1f098723-e9df-62b5-bfff-3742806b9d3b'}}, tasks=(PregelTask(id='6722f4d8-d1ab-b9d6-5068-f737cbc6cfba', name='generate_joke', path=('__pregel_pull', 'generate_joke'), error=None, interrupts=(), state=None, result={'joke': 'Why did the mobile phone go to therapy?\\n\\nBecause it had too many unresolved issues... and constantly felt disconnected.'}),), interrupts=()),\n",
       " StateSnapshot(values={}, next=('__start__',), config={'configurable': {'thread_id': '2', 'checkpoint_ns': '', 'checkpoint_id': '1f098723-e9df-62b5-bfff-3742806b9d3b'}}, metadata={'source': 'input', 'step': -1, 'parents': {}}, created_at='2025-09-23T11:41:29.271774+00:00', parent_config=None, tasks=(PregelTask(id='8c62c89d-276b-d974-32ba-561812bc70de', name='__start__', path=('__pregel_pull', '__start__'), error=None, interrupts=(), state=None, result={'topic': 'mobile phone'}),), interrupts=())]"
      ]
     },
     "execution_count": 23,
     "metadata": {},
     "output_type": "execute_result"
    }
   ],
   "source": [
    "list(workflow.get_state_history(config2))"
   ]
  },
  {
   "cell_type": "code",
   "execution_count": 24,
   "id": "e7fe441b",
   "metadata": {},
   "outputs": [
    {
     "data": {
      "text/plain": [
       "{'topic': 'instagram',\n",
       " 'joke': 'Why did the Instagram influencer break up with their phone?\\n\\nBecause they felt like they were being used for likes and validation, and the phone was just constantly asking, \"Are you sure you\\'re living your best life? Want to buy some filters?\"',\n",
       " 'explanation': 'The joke plays on the stereotypical behavior and anxieties of Instagram influencers, then personifies the phone to highlight those issues. Here\\'s a breakdown:\\n\\n* **Instagram Influencer and Phone Relationship:** The setup establishes an unusual \"relationship\" between an influencer and their phone. This is already humorous because it hints at the unhealthy dependence many influencers have on their devices.\\n\\n* **\"Used for Likes and Validation\":** This is the core of the joke. Influencers often feel pressured to create content solely for the purpose of gaining likes, comments, and followers. This pursuit of external validation can be emotionally draining and lead to feelings of being exploited. The joke suggests the phone (representing the platform) is directly profiting from the influencer\\'s efforts.\\n\\n* **\"Are you sure you\\'re living your best life? Want to buy some filters?\"**: This is the punchline and further personifies the phone as a demanding and manipulative presence.\\n    * **\"Are you sure you\\'re living your best life?\"**  This taps into the pressure to present a perfect, idealized version of reality on Instagram. The phone is constantly prompting the influencer to question their authenticity and happiness, contributing to anxiety and insecurity.\\n    * **\"Want to buy some filters?\"** This highlights the superficiality and commercialism of Instagram. Filters are a quick fix to enhance appearance and create a more appealing image. The phone is essentially saying \"You\\'re not good enough as you are; buy something to improve yourself.\" This reinforces the feeling of being used for profit and perpetuates unrealistic beauty standards.\\n\\n**In essence, the joke is funny because it:**\\n\\n* **Exaggerates the dependence of influencers on their phones.**\\n* **Critiques the pressure to seek validation online.**\\n* **Highlights the commercialization and superficiality of Instagram.**\\n* **Uses personification to make the phone a symbol of the platform\\'s manipulative tendencies.**\\n\\nThe humor arises from the relatable anxieties and pressures faced by influencers, even if exaggerated for comedic effect. It also touches on the broader societal issues of social media addiction and the pursuit of online validation.'}"
      ]
     },
     "execution_count": 24,
     "metadata": {},
     "output_type": "execute_result"
    }
   ],
   "source": [
    "workflow.invoke(None, {\"configurable\": {\"thread_id\": \"2\", \"checkpoint_id\": \"1f09877c-1a65-6ef4-8001-d4a45644cc92\"}})"
   ]
  },
  {
   "cell_type": "code",
   "execution_count": 25,
   "id": "aa0fee4d",
   "metadata": {},
   "outputs": [
    {
     "data": {
      "text/plain": [
       "[StateSnapshot(values={'topic': 'instagram', 'joke': 'Why did the Instagram influencer break up with their phone?\\n\\nBecause they felt like they were being used for likes and validation, and the phone was just constantly asking, \"Are you sure you\\'re living your best life? Want to buy some filters?\"', 'explanation': 'The joke plays on the stereotypical behavior and anxieties of Instagram influencers, then personifies the phone to highlight those issues. Here\\'s a breakdown:\\n\\n* **Instagram Influencer and Phone Relationship:** The setup establishes an unusual \"relationship\" between an influencer and their phone. This is already humorous because it hints at the unhealthy dependence many influencers have on their devices.\\n\\n* **\"Used for Likes and Validation\":** This is the core of the joke. Influencers often feel pressured to create content solely for the purpose of gaining likes, comments, and followers. This pursuit of external validation can be emotionally draining and lead to feelings of being exploited. The joke suggests the phone (representing the platform) is directly profiting from the influencer\\'s efforts.\\n\\n* **\"Are you sure you\\'re living your best life? Want to buy some filters?\"**: This is the punchline and further personifies the phone as a demanding and manipulative presence.\\n    * **\"Are you sure you\\'re living your best life?\"**  This taps into the pressure to present a perfect, idealized version of reality on Instagram. The phone is constantly prompting the influencer to question their authenticity and happiness, contributing to anxiety and insecurity.\\n    * **\"Want to buy some filters?\"** This highlights the superficiality and commercialism of Instagram. Filters are a quick fix to enhance appearance and create a more appealing image. The phone is essentially saying \"You\\'re not good enough as you are; buy something to improve yourself.\" This reinforces the feeling of being used for profit and perpetuates unrealistic beauty standards.\\n\\n**In essence, the joke is funny because it:**\\n\\n* **Exaggerates the dependence of influencers on their phones.**\\n* **Critiques the pressure to seek validation online.**\\n* **Highlights the commercialization and superficiality of Instagram.**\\n* **Uses personification to make the phone a symbol of the platform\\'s manipulative tendencies.**\\n\\nThe humor arises from the relatable anxieties and pressures faced by influencers, even if exaggerated for comedic effect. It also touches on the broader societal issues of social media addiction and the pursuit of online validation.'}, next=(), config={'configurable': {'thread_id': '2', 'checkpoint_ns': '', 'checkpoint_id': '1f09877f-8620-63b2-8003-52723d7f67e2'}}, metadata={'source': 'loop', 'step': 3, 'parents': {}}, created_at='2025-09-23T12:22:28.418859+00:00', parent_config={'configurable': {'thread_id': '2', 'checkpoint_ns': '', 'checkpoint_id': '1f09877f-6465-6250-8002-102e94581994'}}, tasks=(), interrupts=()),\n",
       " StateSnapshot(values={'topic': 'instagram', 'joke': 'Why did the Instagram influencer break up with their phone?\\n\\nBecause they felt like they were being used for likes and validation, and the phone was just constantly asking, \"Are you sure you\\'re living your best life? Want to buy some filters?\"'}, next=('generate_explanation',), config={'configurable': {'thread_id': '2', 'checkpoint_ns': '', 'checkpoint_id': '1f09877f-6465-6250-8002-102e94581994'}}, metadata={'source': 'loop', 'step': 2, 'parents': {}}, created_at='2025-09-23T12:22:24.881928+00:00', parent_config={'configurable': {'thread_id': '2', 'checkpoint_ns': '', 'checkpoint_id': '1f09877c-1a65-6ef4-8001-d4a45644cc92'}}, tasks=(PregelTask(id='7c161b53-6375-7dd1-6688-994ee43be4ad', name='generate_explanation', path=('__pregel_pull', 'generate_explanation'), error=None, interrupts=(), state=None, result={'explanation': 'The joke plays on the stereotypical behavior and anxieties of Instagram influencers, then personifies the phone to highlight those issues. Here\\'s a breakdown:\\n\\n* **Instagram Influencer and Phone Relationship:** The setup establishes an unusual \"relationship\" between an influencer and their phone. This is already humorous because it hints at the unhealthy dependence many influencers have on their devices.\\n\\n* **\"Used for Likes and Validation\":** This is the core of the joke. Influencers often feel pressured to create content solely for the purpose of gaining likes, comments, and followers. This pursuit of external validation can be emotionally draining and lead to feelings of being exploited. The joke suggests the phone (representing the platform) is directly profiting from the influencer\\'s efforts.\\n\\n* **\"Are you sure you\\'re living your best life? Want to buy some filters?\"**: This is the punchline and further personifies the phone as a demanding and manipulative presence.\\n    * **\"Are you sure you\\'re living your best life?\"**  This taps into the pressure to present a perfect, idealized version of reality on Instagram. The phone is constantly prompting the influencer to question their authenticity and happiness, contributing to anxiety and insecurity.\\n    * **\"Want to buy some filters?\"** This highlights the superficiality and commercialism of Instagram. Filters are a quick fix to enhance appearance and create a more appealing image. The phone is essentially saying \"You\\'re not good enough as you are; buy something to improve yourself.\" This reinforces the feeling of being used for profit and perpetuates unrealistic beauty standards.\\n\\n**In essence, the joke is funny because it:**\\n\\n* **Exaggerates the dependence of influencers on their phones.**\\n* **Critiques the pressure to seek validation online.**\\n* **Highlights the commercialization and superficiality of Instagram.**\\n* **Uses personification to make the phone a symbol of the platform\\'s manipulative tendencies.**\\n\\nThe humor arises from the relatable anxieties and pressures faced by influencers, even if exaggerated for comedic effect. It also touches on the broader societal issues of social media addiction and the pursuit of online validation.'}),), interrupts=()),\n",
       " StateSnapshot(values={'topic': 'instagram'}, next=('generate_joke',), config={'configurable': {'thread_id': '2', 'checkpoint_ns': '', 'checkpoint_id': '1f09877c-1a65-6ef4-8001-d4a45644cc92'}}, metadata={'source': 'update', 'step': 1, 'parents': {}}, created_at='2025-09-23T12:20:56.592152+00:00', parent_config={'configurable': {'thread_id': '2', 'checkpoint_ns': '', 'checkpoint_id': '1f098723-e9f2-6b32-8000-618d89dedb6e'}}, tasks=(PregelTask(id='51e32f95-661c-dfa8-e59e-97297edca8a9', name='generate_joke', path=('__pregel_pull', 'generate_joke'), error=None, interrupts=(), state=None, result={'joke': 'Why did the Instagram influencer break up with their phone?\\n\\nBecause they felt like they were being used for likes and validation, and the phone was just constantly asking, \"Are you sure you\\'re living your best life? Want to buy some filters?\"'}),), interrupts=()),\n",
       " StateSnapshot(values={'topic': 'mobile phone', 'joke': 'Why did the mobile phone break up with the charger?\\n\\nBecause it felt like they were just using each other!', 'explanation': 'The joke plays on the common phrase \"using each other\" in the context of a romantic relationship. Here\\'s how it works:\\n\\n* **Literal Meaning:** A mobile phone needs a charger to function (to get power). The charger, in turn, needs a phone to be useful (to deliver power). In this literal sense, they are \"using\" each other to achieve their respective purposes.\\n\\n* **Figurative Meaning (Relationship Context):** The phrase \"using each other\" in a relationship implies that the individuals are not genuinely interested in each other\\'s well-being or happiness. Instead, they are only with the other person for personal gain (e.g., money, status, convenience).\\n\\n* **The Humor:** The joke creates humor by applying the phrase \"using each other\" to the inanimate objects (phone and charger) as if they were in a relationship.  The phone, personified in the joke, feels that the relationship is transactional and lacks genuine connection, leading to the breakup. The absurdity of a phone having feelings and ending a relationship with its charger is what makes the joke funny.'}, next=(), config={'configurable': {'thread_id': '2', 'checkpoint_ns': '', 'checkpoint_id': '1f09876b-4c95-64f5-8002-61ffa57a734d'}}, metadata={'source': 'loop', 'step': 2, 'parents': {}}, created_at='2025-09-23T12:13:25.514162+00:00', parent_config={'configurable': {'thread_id': '2', 'checkpoint_ns': '', 'checkpoint_id': '1f09876b-31b5-6e15-8001-1d3c02d51d56'}}, tasks=(), interrupts=()),\n",
       " StateSnapshot(values={'topic': 'mobile phone', 'joke': 'Why did the mobile phone break up with the charger?\\n\\nBecause it felt like they were just using each other!'}, next=('generate_explanation',), config={'configurable': {'thread_id': '2', 'checkpoint_ns': '', 'checkpoint_id': '1f09876b-31b5-6e15-8001-1d3c02d51d56'}}, metadata={'source': 'loop', 'step': 1, 'parents': {}}, created_at='2025-09-23T12:13:22.696347+00:00', parent_config={'configurable': {'thread_id': '2', 'checkpoint_ns': '', 'checkpoint_id': '1f098723-e9f2-6b32-8000-618d89dedb6e'}}, tasks=(PregelTask(id='a378174f-4612-5162-9051-857fdbaa78c6', name='generate_explanation', path=('__pregel_pull', 'generate_explanation'), error=None, interrupts=(), state=None, result={'explanation': 'The joke plays on the common phrase \"using each other\" in the context of a romantic relationship. Here\\'s how it works:\\n\\n* **Literal Meaning:** A mobile phone needs a charger to function (to get power). The charger, in turn, needs a phone to be useful (to deliver power). In this literal sense, they are \"using\" each other to achieve their respective purposes.\\n\\n* **Figurative Meaning (Relationship Context):** The phrase \"using each other\" in a relationship implies that the individuals are not genuinely interested in each other\\'s well-being or happiness. Instead, they are only with the other person for personal gain (e.g., money, status, convenience).\\n\\n* **The Humor:** The joke creates humor by applying the phrase \"using each other\" to the inanimate objects (phone and charger) as if they were in a relationship.  The phone, personified in the joke, feels that the relationship is transactional and lacks genuine connection, leading to the breakup. The absurdity of a phone having feelings and ending a relationship with its charger is what makes the joke funny.'}),), interrupts=()),\n",
       " StateSnapshot(values={'topic': 'mobile phone', 'joke': 'Why did the mobile phone go to therapy?\\n\\nBecause it had too many unresolved issues... and constantly felt disconnected.', 'explanation': 'The joke plays on the double meaning of words associated with both mobile phones and mental health:\\n\\n*   **\"Unresolved issues\"**: This refers to both problems or bugs in the phone\\'s software (common technical issues with phones) and unresolved emotional or psychological problems in a person (a common reason for seeking therapy).\\n\\n*   **\"Disconnected\"**: This refers to the phone\\'s inability to connect to a network (a technical problem) and the feeling of emotional isolation or lack of connection with others (a common symptom of mental health issues).\\n\\nThe humor comes from applying human-like feelings and problems to an inanimate object (the mobile phone). We expect people to go to therapy for unresolved issues and feelings of disconnection, but it\\'s absurd to imagine a phone doing the same. The joke cleverly uses the technological vocabulary and applies it to a human emotional experience in a humorous way.'}, next=(), config={'configurable': {'thread_id': '2', 'checkpoint_ns': '', 'checkpoint_id': '1f098724-0a67-6631-8002-8795a9777182'}}, metadata={'source': 'loop', 'step': 2, 'parents': {}}, created_at='2025-09-23T11:41:32.683012+00:00', parent_config={'configurable': {'thread_id': '2', 'checkpoint_ns': '', 'checkpoint_id': '1f098723-f36c-6917-8001-ead9181ce842'}}, tasks=(), interrupts=()),\n",
       " StateSnapshot(values={'topic': 'mobile phone', 'joke': 'Why did the mobile phone go to therapy?\\n\\nBecause it had too many unresolved issues... and constantly felt disconnected.'}, next=('generate_explanation',), config={'configurable': {'thread_id': '2', 'checkpoint_ns': '', 'checkpoint_id': '1f098723-f36c-6917-8001-ead9181ce842'}}, metadata={'source': 'loop', 'step': 1, 'parents': {}}, created_at='2025-09-23T11:41:30.273410+00:00', parent_config={'configurable': {'thread_id': '2', 'checkpoint_ns': '', 'checkpoint_id': '1f098723-e9f2-6b32-8000-618d89dedb6e'}}, tasks=(PregelTask(id='b0e6c919-efc3-3786-3e90-b63a403cb789', name='generate_explanation', path=('__pregel_pull', 'generate_explanation'), error=None, interrupts=(), state=None, result={'explanation': 'The joke plays on the double meaning of words associated with both mobile phones and mental health:\\n\\n*   **\"Unresolved issues\"**: This refers to both problems or bugs in the phone\\'s software (common technical issues with phones) and unresolved emotional or psychological problems in a person (a common reason for seeking therapy).\\n\\n*   **\"Disconnected\"**: This refers to the phone\\'s inability to connect to a network (a technical problem) and the feeling of emotional isolation or lack of connection with others (a common symptom of mental health issues).\\n\\nThe humor comes from applying human-like feelings and problems to an inanimate object (the mobile phone). We expect people to go to therapy for unresolved issues and feelings of disconnection, but it\\'s absurd to imagine a phone doing the same. The joke cleverly uses the technological vocabulary and applies it to a human emotional experience in a humorous way.'}),), interrupts=()),\n",
       " StateSnapshot(values={'topic': 'mobile phone'}, next=('generate_joke',), config={'configurable': {'thread_id': '2', 'checkpoint_ns': '', 'checkpoint_id': '1f098723-e9f2-6b32-8000-618d89dedb6e'}}, metadata={'source': 'loop', 'step': 0, 'parents': {}}, created_at='2025-09-23T11:41:29.279774+00:00', parent_config={'configurable': {'thread_id': '2', 'checkpoint_ns': '', 'checkpoint_id': '1f098723-e9df-62b5-bfff-3742806b9d3b'}}, tasks=(PregelTask(id='6722f4d8-d1ab-b9d6-5068-f737cbc6cfba', name='generate_joke', path=('__pregel_pull', 'generate_joke'), error=None, interrupts=(), state=None, result={'joke': 'Why did the mobile phone go to therapy?\\n\\nBecause it had too many unresolved issues... and constantly felt disconnected.'}),), interrupts=()),\n",
       " StateSnapshot(values={}, next=('__start__',), config={'configurable': {'thread_id': '2', 'checkpoint_ns': '', 'checkpoint_id': '1f098723-e9df-62b5-bfff-3742806b9d3b'}}, metadata={'source': 'input', 'step': -1, 'parents': {}}, created_at='2025-09-23T11:41:29.271774+00:00', parent_config=None, tasks=(PregelTask(id='8c62c89d-276b-d974-32ba-561812bc70de', name='__start__', path=('__pregel_pull', '__start__'), error=None, interrupts=(), state=None, result={'topic': 'mobile phone'}),), interrupts=())]"
      ]
     },
     "execution_count": 25,
     "metadata": {},
     "output_type": "execute_result"
    }
   ],
   "source": [
    "list(workflow.get_state_history(config2))"
   ]
  },
  {
   "cell_type": "markdown",
   "id": "8508c456",
   "metadata": {},
   "source": [
    "Fault Tolerance"
   ]
  },
  {
   "cell_type": "code",
   "execution_count": 39,
   "id": "4e34584d",
   "metadata": {},
   "outputs": [],
   "source": [
    "#1. Define the state\n",
    "class CrashState(TypedDict):\n",
    "    input: str\n",
    "    step1: str\n",
    "    step2: str"
   ]
  },
  {
   "cell_type": "code",
   "execution_count": 40,
   "id": "0dff4527",
   "metadata": {},
   "outputs": [],
   "source": [
    "import time\n",
    "\n",
    "# 2. Define steps\n",
    "def step_1(state: CrashState) -> CrashState:\n",
    "    print(\"✅ Step 1 executed\")\n",
    "    return {\"step1\": \"done\", \"input\": state[\"input\"]}\n",
    "\n",
    "def step_2(state: CrashState) -> CrashState:\n",
    "    print(\"⏳ Step 2 hanging... now manually interrupt from the notebook toolbar (STOP button)\")\n",
    "    time.sleep(30)  # Simulate long-running hang\n",
    "    return {\"step2\": \"done\"}\n",
    "\n",
    "def step_3(state: CrashState) -> CrashState:\n",
    "    print(\"✅ Step 3 executed\")\n",
    "    return {\"step3\": \"done\"}"
   ]
  },
  {
   "cell_type": "code",
   "execution_count": 41,
   "id": "22230303",
   "metadata": {},
   "outputs": [],
   "source": [
    "# 3. Build the graph\n",
    "builder = StateGraph(CrashState)\n",
    "builder.add_node(\"step_1\", step_1)\n",
    "builder.add_node(\"step_2\", step_2)\n",
    "builder.add_node(\"step_3\", step_3)\n",
    "\n",
    "builder.set_entry_point(\"step_1\")\n",
    "builder.add_edge(\"step_1\", \"step_2\")\n",
    "builder.add_edge(\"step_2\", \"step_3\")\n",
    "builder.add_edge(\"step_3\", END)\n",
    "\n",
    "checkpointer = InMemorySaver()\n",
    "graph = builder.compile(checkpointer=checkpointer)"
   ]
  },
  {
   "cell_type": "code",
   "execution_count": 42,
   "id": "871f24ac",
   "metadata": {},
   "outputs": [
    {
     "data": {
      "image/png": "[encoded data removed]",
      "text/plain": [
       "<langgraph.graph.state.CompiledStateGraph object at 0x0000023F92A582E0>"
      ]
     },
     "execution_count": 42,
     "metadata": {},
     "output_type": "execute_result"
    }
   ],
   "source": [
    "graph"
   ]
  },
  {
   "cell_type": "code",
   "execution_count": 47,
   "id": "642362bd",
   "metadata": {},
   "outputs": [
    {
     "name": "stdout",
     "output_type": "stream",
     "text": [
      "▶️ Running graph: Please manually interrupt during Step 2...\n",
      "✅ Step 1 executed\n",
      "⏳ Step 2 hanging... now manually interrupt from the notebook toolbar (STOP button)\n",
      "❌ Kernel manually interrupted (crash simulated).\n"
     ]
    }
   ],
   "source": [
    "try:\n",
    "    print(\"▶️ Running graph: Please manually interrupt during Step 2...\")\n",
    "    graph.invoke({\"input\": \"start\"}, config={\"configurable\": {\"thread_id\": 'thread-1'}})\n",
    "except KeyboardInterrupt:\n",
    "    print(\"❌ Kernel manually interrupted (crash simulated).\")"
   ]
  },
  {
   "cell_type": "code",
   "execution_count": 48,
   "id": "f5e2cc02",
   "metadata": {},
   "outputs": [
    {
     "name": "stdout",
     "output_type": "stream",
     "text": [
      "\n",
      "🔁 Re-running the graph to demonstrate fault tolerance...\n",
      "⏳ Step 2 hanging... now manually interrupt from the notebook toolbar (STOP button)\n",
      "✅ Step 3 executed\n",
      "\n",
      "✅ Final State: {'input': 'start', 'step1': 'done', 'step2': 'done'}\n"
     ]
    }
   ],
   "source": [
    "# 6. Re-run to show fault-tolerant resume\n",
    "print(\"\\n🔁 Re-running the graph to demonstrate fault tolerance...\")\n",
    "final_state = graph.invoke(None, config={\"configurable\": {\"thread_id\": 'thread-1'}})\n",
    "print(\"\\n✅ Final State:\", final_state)"
   ]
  },
  {
   "cell_type": "code",
   "execution_count": 49,
   "id": "89c57e0e",
   "metadata": {},
   "outputs": [
    {
     "data": {
      "text/plain": [
       "[StateSnapshot(values={'input': 'start', 'step1': 'done', 'step2': 'done'}, next=(), config={'configurable': {'thread_id': 'thread-1', 'checkpoint_ns': '', 'checkpoint_id': '1f0987fd-c45a-6fdc-8012-d723a5d508e8'}}, metadata={'source': 'loop', 'step': 18, 'parents': {}}, created_at='2025-09-23T13:18:57.230844+00:00', parent_config={'configurable': {'thread_id': 'thread-1', 'checkpoint_ns': '', 'checkpoint_id': '1f0987fd-c45a-6fdb-8011-5605b3db99d0'}}, tasks=(), interrupts=()),\n",
       " StateSnapshot(values={'input': 'start', 'step1': 'done', 'step2': 'done'}, next=('step_3',), config={'configurable': {'thread_id': 'thread-1', 'checkpoint_ns': '', 'checkpoint_id': '1f0987fd-c45a-6fdb-8011-5605b3db99d0'}}, metadata={'source': 'loop', 'step': 17, 'parents': {}}, created_at='2025-09-23T13:18:57.230844+00:00', parent_config={'configurable': {'thread_id': 'thread-1', 'checkpoint_ns': '', 'checkpoint_id': '1f0987fa-fa76-6a4e-8010-a5eab7ede0fc'}}, tasks=(PregelTask(id='ec69a45b-f13e-5c26-c398-776e837f589c', name='step_3', path=('__pregel_pull', 'step_3'), error=None, interrupts=(), state=None, result={}),), interrupts=()),\n",
       " StateSnapshot(values={'input': 'start', 'step1': 'done', 'step2': 'done'}, next=('step_2',), config={'configurable': {'thread_id': 'thread-1', 'checkpoint_ns': '', 'checkpoint_id': '1f0987fa-fa76-6a4e-8010-a5eab7ede0fc'}}, metadata={'source': 'loop', 'step': 16, 'parents': {}}, created_at='2025-09-23T13:17:42.373844+00:00', parent_config={'configurable': {'thread_id': 'thread-1', 'checkpoint_ns': '', 'checkpoint_id': '1f0987fa-fa76-6a4d-800f-cc2e6838da29'}}, tasks=(PregelTask(id='a88923d2-c865-9bf6-9cf6-eba74a1e2fe7', name='step_2', path=('__pregel_pull', 'step_2'), error=None, interrupts=(), state=None, result={'step2': 'done'}),), interrupts=()),\n",
       " StateSnapshot(values={'input': 'start', 'step1': 'done', 'step2': 'done'}, next=('step_1',), config={'configurable': {'thread_id': 'thread-1', 'checkpoint_ns': '', 'checkpoint_id': '1f0987fa-fa76-6a4d-800f-cc2e6838da29'}}, metadata={'source': 'loop', 'step': 15, 'parents': {}}, created_at='2025-09-23T13:17:42.373844+00:00', parent_config={'configurable': {'thread_id': 'thread-1', 'checkpoint_ns': '', 'checkpoint_id': '1f0987fa-fa67-65f7-800e-9f2c7f80a802'}}, tasks=(PregelTask(id='514d435e-296a-35dd-3d21-a8074e9b8452', name='step_1', path=('__pregel_pull', 'step_1'), error=None, interrupts=(), state=None, result={'step1': 'done', 'input': 'start'}),), interrupts=()),\n",
       " StateSnapshot(values={'input': 'start', 'step1': 'done', 'step2': 'done'}, next=('__start__',), config={'configurable': {'thread_id': 'thread-1', 'checkpoint_ns': '', 'checkpoint_id': '1f0987fa-fa67-65f7-800e-9f2c7f80a802'}}, metadata={'source': 'input', 'step': 14, 'parents': {}}, created_at='2025-09-23T13:17:42.367589+00:00', parent_config={'configurable': {'thread_id': 'thread-1', 'checkpoint_ns': '', 'checkpoint_id': '1f0987fa-67f9-6a35-800d-bad005fd7a89'}}, tasks=(PregelTask(id='751ba36e-a517-b2ee-c0a2-bcb7f701dfb2', name='__start__', path=('__pregel_pull', '__start__'), error=None, interrupts=(), state=None, result={'input': 'start'}),), interrupts=()),\n",
       " StateSnapshot(values={'input': 'start', 'step1': 'done', 'step2': 'done'}, next=(), config={'configurable': {'thread_id': 'thread-1', 'checkpoint_ns': '', 'checkpoint_id': '1f0987fa-67f9-6a35-800d-bad005fd7a89'}}, metadata={'source': 'loop', 'step': 13, 'parents': {}}, created_at='2025-09-23T13:17:27.013432+00:00', parent_config={'configurable': {'thread_id': 'thread-1', 'checkpoint_ns': '', 'checkpoint_id': '1f0987fa-67ed-6e2d-800c-4f355dc7d290'}}, tasks=(), interrupts=()),\n",
       " StateSnapshot(values={'input': 'start', 'step1': 'done', 'step2': 'done'}, next=('step_3',), config={'configurable': {'thread_id': 'thread-1', 'checkpoint_ns': '', 'checkpoint_id': '1f0987fa-67ed-6e2d-800c-4f355dc7d290'}}, metadata={'source': 'loop', 'step': 12, 'parents': {}}, created_at='2025-09-23T13:17:27.008618+00:00', parent_config={'configurable': {'thread_id': 'thread-1', 'checkpoint_ns': '', 'checkpoint_id': '1f0987f9-49ad-65dc-800b-976471754bd9'}}, tasks=(PregelTask(id='4fc65329-2b28-6588-177f-01235d66695f', name='step_3', path=('__pregel_pull', 'step_3'), error=None, interrupts=(), state=None, result={}),), interrupts=()),\n",
       " StateSnapshot(values={'input': 'start', 'step1': 'done', 'step2': 'done'}, next=('step_2',), config={'configurable': {'thread_id': 'thread-1', 'checkpoint_ns': '', 'checkpoint_id': '1f0987f9-49ad-65dc-800b-976471754bd9'}}, metadata={'source': 'loop', 'step': 11, 'parents': {}}, created_at='2025-09-23T13:16:56.992918+00:00', parent_config={'configurable': {'thread_id': 'thread-1', 'checkpoint_ns': '', 'checkpoint_id': '1f0987f9-4999-6d4e-800a-da7b4c019eb1'}}, tasks=(PregelTask(id='8e96543f-e6c1-c4ab-98a5-3895234df971', name='step_2', path=('__pregel_pull', 'step_2'), error=None, interrupts=(), state=None, result={'step2': 'done'}),), interrupts=()),\n",
       " StateSnapshot(values={'input': 'start', 'step1': 'done', 'step2': 'done'}, next=('step_1',), config={'configurable': {'thread_id': 'thread-1', 'checkpoint_ns': '', 'checkpoint_id': '1f0987f9-4999-6d4e-800a-da7b4c019eb1'}}, metadata={'source': 'loop', 'step': 10, 'parents': {}}, created_at='2025-09-23T13:16:56.984916+00:00', parent_config={'configurable': {'thread_id': 'thread-1', 'checkpoint_ns': '', 'checkpoint_id': '1f0987f9-4999-6d4d-8009-7b9c3e10aec2'}}, tasks=(PregelTask(id='22afd970-789e-3c56-dc7a-089f6f11c0e1', name='step_1', path=('__pregel_pull', 'step_1'), error=None, interrupts=(), state=None, result={'step1': 'done', 'input': 'start'}),), interrupts=()),\n",
       " StateSnapshot(values={'input': 'start', 'step1': 'done', 'step2': 'done'}, next=('__start__',), config={'configurable': {'thread_id': 'thread-1', 'checkpoint_ns': '', 'checkpoint_id': '1f0987f9-4999-6d4d-8009-7b9c3e10aec2'}}, metadata={'source': 'input', 'step': 9, 'parents': {}}, created_at='2025-09-23T13:16:56.984916+00:00', parent_config={'configurable': {'thread_id': 'thread-1', 'checkpoint_ns': '', 'checkpoint_id': '1f0987ed-c995-6f2b-8008-19be56034991'}}, tasks=(PregelTask(id='e221919d-eac3-fc28-bddf-221a0d74e6c0', name='__start__', path=('__pregel_pull', '__start__'), error=None, interrupts=(), state=None, result={'input': 'start'}),), interrupts=()),\n",
       " StateSnapshot(values={'input': 'start', 'step1': 'done', 'step2': 'done'}, next=(), config={'configurable': {'thread_id': 'thread-1', 'checkpoint_ns': '', 'checkpoint_id': '1f0987ed-c995-6f2b-8008-19be56034991'}}, metadata={'source': 'loop', 'step': 8, 'parents': {}}, created_at='2025-09-23T13:11:48.282551+00:00', parent_config={'configurable': {'thread_id': 'thread-1', 'checkpoint_ns': '', 'checkpoint_id': '1f0987ed-c995-6f2a-8007-3e112b1991c4'}}, tasks=(), interrupts=()),\n",
       " StateSnapshot(values={'input': 'start', 'step1': 'done', 'step2': 'done'}, next=('step_3',), config={'configurable': {'thread_id': 'thread-1', 'checkpoint_ns': '', 'checkpoint_id': '1f0987ed-c995-6f2a-8007-3e112b1991c4'}}, metadata={'source': 'loop', 'step': 7, 'parents': {}}, created_at='2025-09-23T13:11:48.282551+00:00', parent_config={'configurable': {'thread_id': 'thread-1', 'checkpoint_ns': '', 'checkpoint_id': '1f0987eb-36f5-6d36-8006-a976414114f4'}}, tasks=(PregelTask(id='afe01930-fec6-00f7-fb79-f1bd49c2d10e', name='step_3', path=('__pregel_pull', 'step_3'), error=None, interrupts=(), state=None, result={}),), interrupts=()),\n",
       " StateSnapshot(values={'input': 'start', 'step1': 'done', 'step2': 'done'}, next=('step_2',), config={'configurable': {'thread_id': 'thread-1', 'checkpoint_ns': '', 'checkpoint_id': '1f0987eb-36f5-6d36-8006-a976414114f4'}}, metadata={'source': 'loop', 'step': 6, 'parents': {}}, created_at='2025-09-23T13:10:39.217166+00:00', parent_config={'configurable': {'thread_id': 'thread-1', 'checkpoint_ns': '', 'checkpoint_id': '1f0987eb-36ed-648d-8005-23fd2ad495bd'}}, tasks=(PregelTask(id='f292deca-d834-6e7b-8af2-2404e9bcdab5', name='step_2', path=('__pregel_pull', 'step_2'), error=None, interrupts=(), state=None, result={'step2': 'done'}),), interrupts=()),\n",
       " StateSnapshot(values={'input': 'start', 'step1': 'done', 'step2': 'done'}, next=('step_1',), config={'configurable': {'thread_id': 'thread-1', 'checkpoint_ns': '', 'checkpoint_id': '1f0987eb-36ed-648d-8005-23fd2ad495bd'}}, metadata={'source': 'loop', 'step': 5, 'parents': {}}, created_at='2025-09-23T13:10:39.217166+00:00', parent_config={'configurable': {'thread_id': 'thread-1', 'checkpoint_ns': '', 'checkpoint_id': '1f0987eb-366b-640a-8004-ffc332fd1d3b'}}, tasks=(PregelTask(id='eb4f184d-aa14-3ac5-8d4f-6211fc1e5419', name='step_1', path=('__pregel_pull', 'step_1'), error=None, interrupts=(), state=None, result={'step1': 'done', 'input': 'start'}),), interrupts=()),\n",
       " StateSnapshot(values={'input': 'start', 'step1': 'done', 'step2': 'done'}, next=('__start__',), config={'configurable': {'thread_id': 'thread-1', 'checkpoint_ns': '', 'checkpoint_id': '1f0987eb-366b-640a-8004-ffc332fd1d3b'}}, metadata={'source': 'input', 'step': 4, 'parents': {}}, created_at='2025-09-23T13:10:39.163905+00:00', parent_config={'configurable': {'thread_id': 'thread-1', 'checkpoint_ns': '', 'checkpoint_id': '1f0987ea-c83c-66f4-8003-7178106678c9'}}, tasks=(PregelTask(id='4cf4f646-dad0-4188-faba-2329f61e35cd', name='__start__', path=('__pregel_pull', '__start__'), error=None, interrupts=(), state=None, result={'input': 'start'}),), interrupts=()),\n",
       " StateSnapshot(values={'input': 'start', 'step1': 'done', 'step2': 'done'}, next=(), config={'configurable': {'thread_id': 'thread-1', 'checkpoint_ns': '', 'checkpoint_id': '1f0987ea-c83c-66f4-8003-7178106678c9'}}, metadata={'source': 'loop', 'step': 3, 'parents': {}}, created_at='2025-09-23T13:10:27.610392+00:00', parent_config={'configurable': {'thread_id': 'thread-1', 'checkpoint_ns': '', 'checkpoint_id': '1f0987ea-c83c-66f3-8002-50e0c26d137b'}}, tasks=(), interrupts=()),\n",
       " StateSnapshot(values={'input': 'start', 'step1': 'done', 'step2': 'done'}, next=('step_3',), config={'configurable': {'thread_id': 'thread-1', 'checkpoint_ns': '', 'checkpoint_id': '1f0987ea-c83c-66f3-8002-50e0c26d137b'}}, metadata={'source': 'loop', 'step': 2, 'parents': {}}, created_at='2025-09-23T13:10:27.610392+00:00', parent_config={'configurable': {'thread_id': 'thread-1', 'checkpoint_ns': '', 'checkpoint_id': '1f0987e9-aa21-65e5-8001-18923664ea6a'}}, tasks=(PregelTask(id='6d68b814-7389-32dc-9762-511f94311595', name='step_3', path=('__pregel_pull', 'step_3'), error=None, interrupts=(), state=None, result={}),), interrupts=()),\n",
       " StateSnapshot(values={'input': 'start', 'step1': 'done'}, next=('step_2',), config={'configurable': {'thread_id': 'thread-1', 'checkpoint_ns': '', 'checkpoint_id': '1f0987e9-aa21-65e5-8001-18923664ea6a'}}, metadata={'source': 'loop', 'step': 1, 'parents': {}}, created_at='2025-09-23T13:09:57.610032+00:00', parent_config={'configurable': {'thread_id': 'thread-1', 'checkpoint_ns': '', 'checkpoint_id': '1f0987e9-aa21-65e4-8000-4b63b3c0769b'}}, tasks=(PregelTask(id='f57ecf89-f9b8-c1f4-65d2-88c1926605b1', name='step_2', path=('__pregel_pull', 'step_2'), error=None, interrupts=(), state=None, result={'step2': 'done'}),), interrupts=()),\n",
       " StateSnapshot(values={'input': 'start'}, next=('step_1',), config={'configurable': {'thread_id': 'thread-1', 'checkpoint_ns': '', 'checkpoint_id': '1f0987e9-aa21-65e4-8000-4b63b3c0769b'}}, metadata={'source': 'loop', 'step': 0, 'parents': {}}, created_at='2025-09-23T13:09:57.610032+00:00', parent_config={'configurable': {'thread_id': 'thread-1', 'checkpoint_ns': '', 'checkpoint_id': '1f0987e9-aa21-65e3-bfff-a675e3e16993'}}, tasks=(PregelTask(id='b6971bdc-392f-d4b5-7b75-de2b0696e5fe', name='step_1', path=('__pregel_pull', 'step_1'), error=None, interrupts=(), state=None, result={'step1': 'done', 'input': 'start'}),), interrupts=()),\n",
       " StateSnapshot(values={}, next=('__start__',), config={'configurable': {'thread_id': 'thread-1', 'checkpoint_ns': '', 'checkpoint_id': '1f0987e9-aa21-65e3-bfff-a675e3e16993'}}, metadata={'source': 'input', 'step': -1, 'parents': {}}, created_at='2025-09-23T13:09:57.610032+00:00', parent_config=None, tasks=(PregelTask(id='1625853e-5ccb-9c2c-bd09-9372cf70da29', name='__start__', path=('__pregel_pull', '__start__'), error=None, interrupts=(), state=None, result={'input': 'start'}),), interrupts=())]"
      ]
     },
     "execution_count": 49,
     "metadata": {},
     "output_type": "execute_result"
    }
   ],
   "source": [
    "list(graph.get_state_history({\"configurable\": {\"thread_id\": 'thread-1'}}))"
   ]
  }
 ],
 "metadata": {
  "kernelspec": {
   "display_name": "myenv",
   "language": "python",
   "name": "python3"
  },
  "language_info": {
   "codemirror_mode": {
    "name": "ipython",
    "version": 3
   },
   "file_extension": ".py",
   "mimetype": "text/x-python",
   "name": "python",
   "nbconvert_exporter": "python",
   "pygments_lexer": "ipython3",
   "version": "3.9.6"
  }
 },
 "nbformat": 4,
 "nbformat_minor": 5
}
