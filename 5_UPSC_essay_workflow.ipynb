{
 "cells": [
  {
   "cell_type": "code",
   "execution_count": 2,
   "id": "c5cf91d8",
   "metadata": {},
   "outputs": [],
   "source": [
    "from langgraph.graph import StateGraph, START, END\n",
    "from langchain_google_genai import ChatGoogleGenerativeAI\n",
    "from dotenv import load_dotenv\n",
    "from pydantic import BaseModel, Field\n",
    "from typing import TypedDict, Annotated\n",
    "import operator"
   ]
  },
  {
   "cell_type": "code",
   "execution_count": 3,
   "id": "93f82524",
   "metadata": {},
   "outputs": [
    {
     "data": {
      "text/plain": [
       "True"
      ]
     },
     "execution_count": 3,
     "metadata": {},
     "output_type": "execute_result"
    }
   ],
   "source": [
    "load_dotenv()"
   ]
  },
  {
   "cell_type": "code",
   "execution_count": 4,
   "id": "c75c2117",
   "metadata": {},
   "outputs": [],
   "source": [
    "model = ChatGoogleGenerativeAI(model = \"gemini-2.0-flash\")"
   ]
  },
  {
   "cell_type": "code",
   "execution_count": 5,
   "id": "d0e8beee",
   "metadata": {},
   "outputs": [],
   "source": [
    "# Create evaluation schema\n",
    "\n",
    "class EvaluationSchema(BaseModel):\n",
    "\n",
    "    feedback: str = Field(description = 'Detailed feedbackfor the essay')\n",
    "    score: int = Field(description = 'Score out of 10', ge = 0, le = 10) "
   ]
  },
  {
   "cell_type": "code",
   "execution_count": 6,
   "id": "801a6fe0",
   "metadata": {},
   "outputs": [],
   "source": [
    "structured_model = model.with_structured_output(EvaluationSchema)"
   ]
  },
  {
   "cell_type": "code",
   "execution_count": 7,
   "id": "5dec6870",
   "metadata": {},
   "outputs": [],
   "source": [
    "essay = \"\"\"India in the Age of AI\n",
    "As the world enters a transformative era defined by artificial intelligence (AI), India stands at a critical juncture — one where it can either emerge as a global leader in AI innovation or risk falling behind in the technology race. The age of AI brings with it immense promise as well as unprecedented challenges, and how India navigates this landscape will shape its socio-economic and geopolitical future.\n",
    "\n",
    "India's strengths in the AI domain are rooted in its vast pool of skilled engineers, a thriving IT industry, and a growing startup ecosystem. With over 5 million STEM graduates annually and a burgeoning base of AI researchers, India possesses the intellectual capital required to build cutting-edge AI systems. Institutions like IITs, IIITs, and IISc have begun fostering AI research, while private players such as TCS, Infosys, and Wipro are integrating AI into their global services. In 2020, the government launched the National AI Strategy (AI for All) with a focus on inclusive growth, aiming to leverage AI in healthcare, agriculture, education, and smart mobility.\n",
    "\n",
    "One of the most promising applications of AI in India lies in agriculture, where predictive analytics can guide farmers on optimal sowing times, weather forecasts, and pest control. In healthcare, AI-powered diagnostics can help address India’s doctor-patient ratio crisis, particularly in rural areas. Educational platforms are increasingly using AI to personalize learning paths, while smart governance tools are helping improve public service delivery and fraud detection.\n",
    "\n",
    "However, the path to AI-led growth is riddled with challenges. Chief among them is the digital divide. While metropolitan cities may embrace AI-driven solutions, rural India continues to struggle with basic internet access and digital literacy. The risk of job displacement due to automation also looms large, especially for low-skilled workers. Without effective skilling and re-skilling programs, AI could exacerbate existing socio-economic inequalities.\n",
    "\n",
    "Another pressing concern is data privacy and ethics. As AI systems rely heavily on vast datasets, ensuring that personal data is used transparently and responsibly becomes vital. India is still shaping its data protection laws, and in the absence of a strong regulatory framework, AI systems may risk misuse or bias.\n",
    "\n",
    "To harness AI responsibly, India must adopt a multi-stakeholder approach involving the government, academia, industry, and civil society. Policies should promote open datasets, encourage responsible innovation, and ensure ethical AI practices. There is also a need for international collaboration, particularly with countries leading in AI research, to gain strategic advantage and ensure interoperability in global systems.\n",
    "\n",
    "India’s demographic dividend, when paired with responsible AI adoption, can unlock massive economic growth, improve governance, and uplift marginalized communities. But this vision will only materialize if AI is seen not merely as a tool for automation, but as an enabler of human-centered development.\n",
    "\n",
    "In conclusion, India in the age of AI is a story in the making — one of opportunity, responsibility, and transformation. The decisions we make today will not just determine India’s AI trajectory, but also its future as an inclusive, equitable, and innovation-driven society.\"\"\""
   ]
  },
  {
   "cell_type": "code",
   "execution_count": 8,
   "id": "9d4cbf0c",
   "metadata": {},
   "outputs": [
    {
     "name": "stdout",
     "output_type": "stream",
     "text": [
      "The essay provides a good overview of India's position in the age of AI, covering both opportunities and challenges. The language is clear and concise, making the essay easy to understand. However, some areas could be strengthened with more specific examples and deeper analysis. For instance, when discussing AI applications in agriculture and healthcare, providing concrete examples of AI tools or projects would add more weight to the argument. Additionally, the essay could benefit from a more critical examination of the ethical implications of AI, such as algorithmic bias and data security. The conclusion effectively summarizes the main points, but it could be more impactful by offering a bolder vision or a call to action.\n",
      "7\n"
     ]
    }
   ],
   "source": [
    "prompt = f'Evaluate the language quality of the following essay and provide a feedback and assign a score out of 10 \\n {essay}'\n",
    "print(structured_model.invoke(prompt).feedback)\n",
    "print(structured_model.invoke(prompt).score)"
   ]
  },
  {
   "cell_type": "code",
   "execution_count": 9,
   "id": "dbd91108",
   "metadata": {},
   "outputs": [],
   "source": [
    "# Create UPSC state\n",
    "\n",
    "class UPSCState(TypedDict):\n",
    "\n",
    "    essay: str\n",
    "    language_feedback: str\n",
    "    analysis_feedback: str\n",
    "    clarity_feedback: str\n",
    "    overall_feedback: str\n",
    "    individual_scores: Annotated[list[int], operator.add]\n",
    "    avg_score: float\n",
    "    category: str"
   ]
  },
  {
   "cell_type": "code",
   "execution_count": 10,
   "id": "17d77379",
   "metadata": {},
   "outputs": [],
   "source": [
    "# Create evaluation language function\n",
    "\n",
    "def evaluate_language(state: UPSCState):\n",
    "\n",
    "    prompt = f'Evaluate the language quality of the following essay and provide a feedback and assign a score out of 10 \\n {state[\"essay\"]}'\n",
    "    output = structured_model.invoke(prompt) \n",
    "\n",
    "    return {'language_feedback': output.feedback, 'individual_scores': [output.score]}"
   ]
  },
  {
   "cell_type": "code",
   "execution_count": 11,
   "id": "22dae5e8",
   "metadata": {},
   "outputs": [],
   "source": [
    "# Create evaluation analysis function\n",
    "\n",
    "def evaluate_analysis(state: UPSCState):\n",
    "\n",
    "    prompt = f'Evaluate the depth of analysis of the following essay and provide a feedback and assign a score out of 10 \\n {state[\"essay\"]}'\n",
    "    output = structured_model.invoke(prompt)\n",
    "\n",
    "    return {'analysis_feedback': output.feedback, 'individual_scores': [output.score]}"
   ]
  },
  {
   "cell_type": "code",
   "execution_count": 12,
   "id": "e029cf8d",
   "metadata": {},
   "outputs": [],
   "source": [
    "# Create evaluation thought function\n",
    "\n",
    "def evaluate_thought(state: UPSCState):\n",
    "\n",
    "    prompt = f'Evaluate the clarity of thought of the following essay and provide a feedback and assign a score out of 10 \\n {state[\"essay\"]}'\n",
    "    output = structured_model.invoke(prompt)\n",
    "\n",
    "    return {'clarity_feedback': output.feedback, 'individual_scores': [output.score]}"
   ]
  },
  {
   "cell_type": "code",
   "execution_count": 13,
   "id": "eea91f1f",
   "metadata": {},
   "outputs": [],
   "source": [
    "# Create final evaluation function\n",
    "\n",
    "def final_evaluation(state: UPSCState):\n",
    "\n",
    "    # summary feedback\n",
    "    prompt = f'Based on the following feedbacks create a summarized feedback \\n language feedback - {state[\"language_feedback\"]} \\n depth of analysis feedback - {state[\"analysis_feedback\"]} \\n clarity of thought feedback - {state[\"clarity_feedback\"]}'\n",
    "    overall_feedback = model.invoke(prompt).content\n",
    "\n",
    "    # avg calculate\n",
    "    avg_score = sum(state['individual_scores'])/len(state['individual_scores'])\n",
    "\n",
    "    return {'overall_feedback': overall_feedback, 'avg_score': avg_score}"
   ]
  },
  {
   "cell_type": "code",
   "execution_count": 14,
   "id": "1756641d",
   "metadata": {},
   "outputs": [],
   "source": [
    "# Label function\n",
    "\n",
    "def evaluate_label(state: UPSCState) -> UPSCState:\n",
    "\n",
    "    avg_score = state['avg_score']\n",
    "\n",
    "    if  0 <= avg_score <= 3:\n",
    "        state[\"category\"] = \"Poor\"\n",
    "    elif 4 <= avg_score <= 6:\n",
    "        state[\"category\"] = \"Average\"\n",
    "    elif 7 <= avg_score <= 8:\n",
    "        state[\"category\"] = \"Good\"\n",
    "    elif 9 <= avg_score <= 10:\n",
    "        state[\"category\"] = \"Excellent\"\n",
    "    \n",
    "    return state"
   ]
  },
  {
   "cell_type": "code",
   "execution_count": 15,
   "id": "0b551c18",
   "metadata": {},
   "outputs": [],
   "source": [
    "# Create graph\n",
    "\n",
    "graph = StateGraph(UPSCState)\n",
    "\n",
    "# Add Nodes\n",
    "graph.add_node('evaluate_language', evaluate_language)\n",
    "graph.add_node('evaluate_analysis', evaluate_analysis)\n",
    "graph.add_node('evaluate_thought', evaluate_thought)\n",
    "graph.add_node('final_evaluation', final_evaluation)\n",
    "graph.add_node('evaluate_label', evaluate_label)\n",
    "\n",
    "# Add Edges\n",
    "\n",
    "graph.add_edge(START, 'evaluate_language')\n",
    "graph.add_edge(START, 'evaluate_analysis')\n",
    "graph.add_edge(START, 'evaluate_thought')\n",
    "\n",
    "graph.add_edge('evaluate_language', 'final_evaluation')\n",
    "graph.add_edge('evaluate_analysis', 'final_evaluation')\n",
    "graph.add_edge('evaluate_thought', 'final_evaluation')\n",
    "\n",
    "graph.add_edge('final_evaluation', 'evaluate_label')\n",
    "graph.add_edge('evaluate_label', END)\n",
    "\n",
    "workflow = graph.compile()"
   ]
  },
  {
   "cell_type": "code",
   "execution_count": 16,
   "id": "5d3cb9f8",
   "metadata": {},
   "outputs": [
    {
     "data": {
      "image/png": "[encoded data removed]",
      "text/plain": [
       "<langgraph.graph.state.CompiledStateGraph object at 0x00000229FD249970>"
      ]
     },
     "execution_count": 16,
     "metadata": {},
     "output_type": "execute_result"
    }
   ],
   "source": [
    "workflow"
   ]
  },
  {
   "cell_type": "code",
   "execution_count": 17,
   "id": "1371f3b2",
   "metadata": {},
   "outputs": [],
   "source": [
    "essay2 = \"\"\"India and AI Time\n",
    "\n",
    "Now world change very fast because new tech call Artificial Intel… something (AI). India also want become big in this AI thing. If work hard, India can go top. But if no careful, India go back.\n",
    "\n",
    "India have many good. We have smart student, many engine-ear, and good IT peoples. Big company like TCS, Infosys, Wipro already use AI. Government also do program “AI for All”. It want AI in farm, doctor place, school and transport.\n",
    "\n",
    "In farm, AI help farmer know when to put seed, when rain come, how stop bug. In health, AI help doctor see sick early. In school, AI help student learn good. Government office use AI to find bad people and work fast.\n",
    "\n",
    "But problem come also. First is many villager no have phone or internet. So AI not help them. Second, many people lose job because AI and machine do work. Poor people get more bad.\n",
    "\n",
    "One more big problem is privacy. AI need big big data. Who take care? India still make data rule. If no strong rule, AI do bad.\n",
    "\n",
    "India must all people together – govern, school, company and normal people. We teach AI and make sure AI not bad. Also talk to other country and learn from them.\n",
    "\n",
    "If India use AI good way, we become strong, help poor and make better life. But if only rich use AI, and poor no get, then big bad thing happen.\n",
    "\n",
    "So, in short, AI time in India have many hope and many danger. We must go right road. AI must help all people, not only some. Then India grow big and world say \"good job India\".\"\"\""
   ]
  },
  {
   "cell_type": "code",
   "execution_count": 18,
   "id": "ffd01890",
   "metadata": {},
   "outputs": [
    {
     "data": {
      "text/plain": [
       "{'essay': 'India and AI Time\\n\\nNow world change very fast because new tech call Artificial Intel… something (AI). India also want become big in this AI thing. If work hard, India can go top. But if no careful, India go back.\\n\\nIndia have many good. We have smart student, many engine-ear, and good IT peoples. Big company like TCS, Infosys, Wipro already use AI. Government also do program “AI for All”. It want AI in farm, doctor place, school and transport.\\n\\nIn farm, AI help farmer know when to put seed, when rain come, how stop bug. In health, AI help doctor see sick early. In school, AI help student learn good. Government office use AI to find bad people and work fast.\\n\\nBut problem come also. First is many villager no have phone or internet. So AI not help them. Second, many people lose job because AI and machine do work. Poor people get more bad.\\n\\nOne more big problem is privacy. AI need big big data. Who take care? India still make data rule. If no strong rule, AI do bad.\\n\\nIndia must all people together – govern, school, company and normal people. We teach AI and make sure AI not bad. Also talk to other country and learn from them.\\n\\nIf India use AI good way, we become strong, help poor and make better life. But if only rich use AI, and poor no get, then big bad thing happen.\\n\\nSo, in short, AI time in India have many hope and many danger. We must go right road. AI must help all people, not only some. Then India grow big and world say \"good job India\".',\n",
       " 'language_feedback': 'The essay has several areas for improvement. Grammar needs significant work, particularly with verb tenses, subject-verb agreement, and article usage (a/an/the). Sentence structure is often simple and repetitive; varying sentence length and complexity would improve readability. Word choice could be more precise and sophisticated. The essay also contains some informal language. The organization is decent, but transitions between ideas could be smoother. Finally, proofreading is needed to correct typos and other errors.',\n",
       " 'analysis_feedback': \"The essay provides a basic overview of AI in India, touching on potential benefits and challenges. However, the analysis lacks depth. It mentions several sectors where AI could be applied (agriculture, healthcare, education) but doesn't delve into the specifics of how AI would be implemented or the potential impact. The discussion of challenges like the digital divide, job displacement, and privacy is superficial. The essay could benefit from more concrete examples, a nuanced understanding of the issues, and a more critical perspective. \",\n",
       " 'clarity_feedback': \"The essay presents a basic understanding of AI's potential impact on India. However, the clarity of thought could be improved. The writing style is simplistic and lacks sophisticated analysis. The arguments are somewhat repetitive and could benefit from more concrete examples and evidence. The essay also suffers from grammatical errors and awkward phrasing, which detract from its clarity. To improve, focus on developing more nuanced arguments, providing specific examples, and refining the writing style for better clarity and precision.\",\n",
       " 'overall_feedback': 'The essay needs significant improvement in several areas: **Language, Analysis, and Clarity.**\\n\\n**Language:** Grammar (verb tenses, subject-verb agreement, articles) needs extensive work. Sentence structure is repetitive and simple; varied sentence length and complexity are needed. Word choice is imprecise and informal. Stronger proofreading is also required.\\n\\n**Depth of Analysis:** The essay provides a superficial overview of AI in India, lacking depth and specific examples. The discussion of benefits and challenges (digital divide, job displacement, privacy) is too general and lacks nuance. A more critical perspective and concrete examples are needed.\\n\\n**Clarity of Thought:** The essay presents a basic understanding but suffers from simplistic writing, repetitive arguments, grammatical errors, and awkward phrasing. More nuanced arguments, specific examples, and refined writing are needed for improved clarity and precision.',\n",
       " 'individual_scores': [6, 5, 6, 6, 5, 6],\n",
       " 'avg_score': 5.666666666666667,\n",
       " 'category': 'Average'}"
      ]
     },
     "execution_count": 18,
     "metadata": {},
     "output_type": "execute_result"
    }
   ],
   "source": [
    "initial_state = {\n",
    "    'essay': essay2\n",
    "}\n",
    "workflow.invoke(initial_state)"
   ]
  }
 ],
 "metadata": {
  "kernelspec": {
   "display_name": "myenv",
   "language": "python",
   "name": "python3"
  },
  "language_info": {
   "codemirror_mode": {
    "name": "ipython",
    "version": 3
   },
   "file_extension": ".py",
   "mimetype": "text/x-python",
   "name": "python",
   "nbconvert_exporter": "python",
   "pygments_lexer": "ipython3",
   "version": "3.9.6"
  }
 },
 "nbformat": 4,
 "nbformat_minor": 5
}
