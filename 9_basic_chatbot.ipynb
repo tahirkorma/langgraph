{
 "cells": [
  {
   "cell_type": "code",
   "execution_count": 2,
   "id": "93960f37",
   "metadata": {},
   "outputs": [],
   "source": [
    "from langgraph.graph import StateGraph, START, END\n",
    "from typing import TypedDict, Annotated\n",
    "from langchain_google_genai import ChatGoogleGenerativeAI\n",
    "from langchain_core.messages import HumanMessage, BaseMessage\n",
    "from langgraph.checkpoint.memory import MemorySaver"
   ]
  },
  {
   "cell_type": "code",
   "execution_count": 3,
   "id": "f4337795",
   "metadata": {},
   "outputs": [],
   "source": [
    "from langgraph.graph.message import add_messages # to add messages in the list used instead of reducer function operator.add\n",
    "\n",
    "class ChatState(TypedDict):\n",
    "\n",
    "    messages: Annotated[list[BaseMessage], add_messages]"
   ]
  },
  {
   "cell_type": "code",
   "execution_count": 4,
   "id": "52c8f008",
   "metadata": {},
   "outputs": [],
   "source": [
    "llm = ChatGoogleGenerativeAI(model='gemini-2.0-flash')\n",
    "\n",
    "\n",
    "def chat_node(state: ChatState):\n",
    "\n",
    "    # take user query from state\n",
    "    messages = state['messages']\n",
    "\n",
    "    # send to llm\n",
    "    response = llm.invoke(messages)\n",
    "\n",
    "    # response store state\n",
    "    return {'messages': [response]}"
   ]
  },
  {
   "cell_type": "code",
   "execution_count": 5,
   "id": "83abbbf0",
   "metadata": {},
   "outputs": [],
   "source": [
    "checkpointer = MemorySaver()\n",
    "\n",
    "graph = StateGraph(ChatState)\n",
    "\n",
    "# add nodes\n",
    "graph.add_node('chat_node', chat_node)\n",
    "\n",
    "graph.add_edge(START, 'chat_node')\n",
    "graph.add_edge('chat_node', END)\n",
    "\n",
    "chatbot = graph.compile(checkpointer=checkpointer)"
   ]
  },
  {
   "cell_type": "code",
   "execution_count": 6,
   "id": "0bcb1113",
   "metadata": {},
   "outputs": [
    {
     "data": {
      "image/png": "[encoded data removed]",
      "text/plain": [
       "<langgraph.graph.state.CompiledStateGraph object at 0x000001AAEE2DC550>"
      ]
     },
     "execution_count": 6,
     "metadata": {},
     "output_type": "execute_result"
    }
   ],
   "source": [
    "chatbot"
   ]
  },
  {
   "cell_type": "code",
   "execution_count": null,
   "id": "4d93c890",
   "metadata": {},
   "outputs": [
    {
     "data": {
      "text/plain": [
       "'The capital of India is **New Delhi**.'"
      ]
     },
     "execution_count": 13,
     "metadata": {},
     "output_type": "execute_result"
    }
   ],
   "source": [
    "# initial_state = {\n",
    "#     'messages': [HumanMessage(content = 'What is the capital of india')]\n",
    "# }\n",
    "# chatbot.invoke(initial_state)['messages'][-1].content"
   ]
  },
  {
   "cell_type": "code",
   "execution_count": 7,
   "id": "633e46e4",
   "metadata": {},
   "outputs": [
    {
     "name": "stdout",
     "output_type": "stream",
     "text": [
      "User: Hi\n",
      "AI: Hi there! How can I help you today?\n",
      "User: can you add 100 +200\n",
      "AI: 100 + 200 = 300\n",
      "User: thanks. now multiply it by 2\n",
      "AI: 300 * 2 = 600\n",
      "User: great now divide by 20\n",
      "AI: 600 / 20 = 30\n",
      "User: exit\n"
     ]
    }
   ],
   "source": [
    "thread_id = '1'\n",
    "\n",
    "while True:\n",
    "\n",
    "    user_message = input('Typer here: ')\n",
    "\n",
    "    print('User:', user_message)\n",
    "\n",
    "    if user_message.strip().lower() in ['exit', 'quit', 'bye']:\n",
    "        break\n",
    "\n",
    "    config = {'configurable': {'thread_id': thread_id}}\n",
    "    response = chatbot.invoke({'messages': [HumanMessage(content = user_message)]}, config=config)\n",
    "\n",
    "    print('AI:', response['messages'][-1].content)"
   ]
  },
  {
   "cell_type": "code",
   "execution_count": 9,
   "id": "c2f13005",
   "metadata": {},
   "outputs": [
    {
     "data": {
      "text/plain": [
       "StateSnapshot(values={'messages': [HumanMessage(content='Hi', additional_kwargs={}, response_metadata={}, id='fee4242c-889d-4def-8b91-61833e7db218'), AIMessage(content='Hi there! How can I help you today?', additional_kwargs={}, response_metadata={'prompt_feedback': {'block_reason': 0, 'safety_ratings': []}, 'finish_reason': 'STOP', 'safety_ratings': []}, id='run--eaa6738e-5251-4f88-94bb-000bb59627cc-0', usage_metadata={'input_tokens': 1, 'output_tokens': 11, 'total_tokens': 12, 'input_token_details': {'cache_read': 0}}), HumanMessage(content='can you add 100 +200', additional_kwargs={}, response_metadata={}, id='abbe0d5d-bd50-46ff-8bed-fa4c1ed62561'), AIMessage(content='100 + 200 = 300', additional_kwargs={}, response_metadata={'prompt_feedback': {'block_reason': 0, 'safety_ratings': []}, 'finish_reason': 'STOP', 'safety_ratings': []}, id='run--4126fa57-a831-4b32-b50e-16088635433a-0', usage_metadata={'input_tokens': 22, 'output_tokens': 14, 'total_tokens': 36, 'input_token_details': {'cache_read': 0}}), HumanMessage(content='thanks. now multiply it by 2', additional_kwargs={}, response_metadata={}, id='ea66e30a-9626-4986-b412-5313d93edd08'), AIMessage(content='300 * 2 = 600', additional_kwargs={}, response_metadata={'prompt_feedback': {'block_reason': 0, 'safety_ratings': []}, 'finish_reason': 'STOP', 'safety_ratings': []}, id='run--64259e10-1725-494c-a9a2-3e8a476b5b09-0', usage_metadata={'input_tokens': 43, 'output_tokens': 12, 'total_tokens': 55, 'input_token_details': {'cache_read': 0}}), HumanMessage(content='great now divide by 20', additional_kwargs={}, response_metadata={}, id='bab8f25e-a09b-44c5-b249-bdf7709b414e'), AIMessage(content='600 / 20 = 30', additional_kwargs={}, response_metadata={'prompt_feedback': {'block_reason': 0, 'safety_ratings': []}, 'finish_reason': 'STOP', 'safety_ratings': []}, id='run--edafc0c9-46b0-437c-bfc3-7024f80eb6ee-0', usage_metadata={'input_tokens': 61, 'output_tokens': 12, 'total_tokens': 73, 'input_token_details': {'cache_read': 0}})]}, next=(), config={'configurable': {'thread_id': '1', 'checkpoint_ns': '', 'checkpoint_id': '1f097dd1-08e0-6feb-800a-07fa226ccd74'}}, metadata={'source': 'loop', 'step': 10, 'parents': {}}, created_at='2025-09-22T17:53:36.979761+00:00', parent_config={'configurable': {'thread_id': '1', 'checkpoint_ns': '', 'checkpoint_id': '1f097dd0-fff2-6b42-8009-c21db8ff7866'}}, tasks=(), interrupts=())"
      ]
     },
     "execution_count": 9,
     "metadata": {},
     "output_type": "execute_result"
    }
   ],
   "source": [
    "chatbot.get_state(config=config)"
   ]
  }
 ],
 "metadata": {
  "kernelspec": {
   "display_name": "myenv",
   "language": "python",
   "name": "python3"
  },
  "language_info": {
   "codemirror_mode": {
    "name": "ipython",
    "version": 3
   },
   "file_extension": ".py",
   "mimetype": "text/x-python",
   "name": "python",
   "nbconvert_exporter": "python",
   "pygments_lexer": "ipython3",
   "version": "3.9.6"
  }
 },
 "nbformat": 4,
 "nbformat_minor": 5
}
