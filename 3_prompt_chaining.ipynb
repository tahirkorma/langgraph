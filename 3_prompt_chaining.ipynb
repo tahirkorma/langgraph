{
 "cells": [
  {
   "cell_type": "code",
   "execution_count": 10,
   "id": "17855140",
   "metadata": {},
   "outputs": [],
   "source": [
    "from langgraph.graph import StateGraph, START, END\n",
    "from langchain_google_genai import ChatGoogleGenerativeAI\n",
    "from typing import TypedDict\n",
    "from dotenv import load_dotenv"
   ]
  },
  {
   "cell_type": "code",
   "execution_count": 5,
   "id": "cc3e3619",
   "metadata": {},
   "outputs": [
    {
     "data": {
      "text/plain": [
       "True"
      ]
     },
     "execution_count": 5,
     "metadata": {},
     "output_type": "execute_result"
    }
   ],
   "source": [
    "load_dotenv()"
   ]
  },
  {
   "cell_type": "code",
   "execution_count": 6,
   "id": "54241c46",
   "metadata": {},
   "outputs": [],
   "source": [
    "model = ChatGoogleGenerativeAI(model = \"gemini-2.0-flash\")"
   ]
  },
  {
   "cell_type": "code",
   "execution_count": null,
   "id": "f2097aa9",
   "metadata": {},
   "outputs": [],
   "source": [
    "# Create state\n",
    "\n",
    "class BlogState(TypedDict):\n",
    "    title: str\n",
    "    outline:str\n",
    "    content:str"
   ]
  },
  {
   "cell_type": "code",
   "execution_count": 16,
   "id": "da7c61e5",
   "metadata": {},
   "outputs": [],
   "source": [
    "# Create function to generate outline\n",
    "\n",
    "def create_outline(state: BlogState) -> BlogState:\n",
    "\n",
    "    # fetch title\n",
    "    title = state['title'] \n",
    "\n",
    "    # create prompt and call llm to generate outline\n",
    "    prompt = f'Generate 300 words of outline for a blog on the topic - {title}'\n",
    "    outline = model.invoke(prompt).content\n",
    "\n",
    "    # update state\n",
    "    state['outline'] = outline\n",
    "\n",
    "    return state"
   ]
  },
  {
   "cell_type": "code",
   "execution_count": 17,
   "id": "f23e0733",
   "metadata": {},
   "outputs": [],
   "source": [
    "# Create function to generate blog\n",
    "\n",
    "def create_blog(state: BlogState) -> BlogState:\n",
    "\n",
    "    # fetch title and outline\n",
    "\n",
    "    title = state['title']\n",
    "    outline = state['outline']\n",
    "\n",
    "    # create prompt and call llm to generate blog\n",
    "    prompt = f'Write a short blog on the title - {title} using the follwing outline \\n {outline}'\n",
    "    content = model.invoke(prompt).content\n",
    "\n",
    "    # update state\n",
    "    state['content'] = content\n",
    "\n",
    "    return state"
   ]
  },
  {
   "cell_type": "code",
   "execution_count": 23,
   "id": "137c37e8",
   "metadata": {},
   "outputs": [],
   "source": [
    "# Create graph\n",
    "\n",
    "graph = StateGraph(BlogState)\n",
    "\n",
    "# nodes\n",
    "graph.add_node('create_outline', create_outline)\n",
    "graph.add_node('create_blog', create_blog)\n",
    "\n",
    "# edges\n",
    "\n",
    "graph.add_edge(START, 'create_outline')\n",
    "graph.add_edge('create_outline', 'create_blog')\n",
    "graph.add_edge('create_blog', END)\n",
    "\n",
    "workflow = graph.compile()"
   ]
  },
  {
   "cell_type": "code",
   "execution_count": 28,
   "id": "5ac5d1ce",
   "metadata": {},
   "outputs": [
    {
     "data": {
      "image/png": "[encoded data removed]",
      "text/plain": [
       "<IPython.core.display.Image object>"
      ]
     },
     "execution_count": 28,
     "metadata": {},
     "output_type": "execute_result"
    }
   ],
   "source": [
    "# Draw graph\n",
    "from IPython.display import Image\n",
    "Image(workflow.get_graph().draw_mermaid_png())"
   ]
  },
  {
   "cell_type": "code",
   "execution_count": 26,
   "id": "469c1656",
   "metadata": {},
   "outputs": [
    {
     "name": "stdout",
     "output_type": "stream",
     "text": [
      "{'title': 'Shark Tank effect in India', 'outline': '**I. Introduction**\\n\\n*   **Hook:** Start with a captivating statistic or anecdote about the impact of Shark Tank India on Indian entrepreneurship.\\n*   **Background:** Briefly introduce Shark Tank and its global success. Explain the premise of the show.\\n*   **Thesis statement:** The arrival of Shark Tank India has sparked a significant \"Shark Tank effect,\" influencing entrepreneurial aspirations, investment trends, and consumer behavior within the Indian startup ecosystem.\\n\\n**II. Increased Entrepreneurial Aspirations**\\n\\n*   **Democratization of Entrepreneurship:** Discuss how the show has made entrepreneurship more accessible and relatable to the average Indian.\\n*   **Role Models:** Highlight how the \"Sharks\" have become role models, inspiring viewers to pursue their own business ventures.\\n*   **Startup Culture Awareness:** Explain how the show has raised awareness about the startup culture, business models, and the process of securing funding.\\n*   **Anecdotal Evidence:** Mention specific examples of people who started their businesses after being inspired by the show.\\n\\n**III. Impact on Investment Trends**\\n\\n*   **Increased Angel Investment:** Discuss if Shark Tank India has led to a rise in angel investment activity in the country.\\n*   **Sectoral Focus:** Analyze whether the show has influenced investment trends towards specific sectors (e.g., consumer goods, sustainable products).\\n*   **Valuation Dynamics:** Explore if the show has affected startup valuation expectations and negotiation strategies.\\n*   **Show\\'s Influence on VC firms:** Discuss whether the VC firms are taking decisions based on what is being pitched on the show.\\n\\n**IV. Consumer Behavior and Brand Building**\\n\\n*   **Increased Brand Awareness:** Explain how appearing on the show significantly boosts brand awareness and sales for participating businesses.\\n*   **\"As Seen on Shark Tank\" Phenomenon:** Discuss the consumer fascination with products featured on the show and the associated purchasing behavior.\\n*   **Marketing and Branding Strategies:** Analyze how the show has influenced the marketing and branding strategies of Indian startups.\\n*   **Trust and Credibility:** Discuss how being validated by the \"Sharks\" provides a level of trust and credibility to a brand.\\n\\n**V. Challenges and Criticisms**\\n\\n*   **Oversimplification of Business:** Acknowledge criticisms about the show oversimplifying the complexities of running a business.\\n*   **Entertainment vs. Education:** Address the balance between entertainment value and genuine educational content.\\n*   **\"Shark Tank Effect\" Bubble:** Discuss the potential for a hype-driven bubble and the importance of sustainable business practices.\\n*   **Focus on specific geographies:** Discuss if the show is only focused on metro cities.\\n\\n**VI. Conclusion**\\n\\n*   **Recap:** Summarize the key points about the Shark Tank effect in India.\\n*   **Future Outlook:** Offer a perspective on the long-term impact of the show on the Indian startup ecosystem.\\n*   **Call to Action:** Encourage aspiring entrepreneurs to learn from the show while also emphasizing the importance of thorough research, planning, and execution.', 'content': '## The Shark Tank Effect: Has India Caught the Entrepreneurial Bug?\\n\\n**I. Introduction**\\n\\nDid you know that applications to Indian business schools surged by up to 30% after the first season of Shark Tank India? This isn\\'t just a coincidence; it\\'s a powerful indicator of the \"Shark Tank effect\" sweeping across the nation. Shark Tank, a global phenomenon, presents aspiring entrepreneurs with the opportunity to pitch their business ideas to a panel of seasoned investors, the \"Sharks,\" in hopes of securing funding and mentorship. While the format has been successful internationally, its Indian adaptation has ignited a firestorm of entrepreneurial enthusiasm. The arrival of Shark Tank India has sparked a significant \"Shark Tank effect,\" influencing entrepreneurial aspirations, investment trends, and consumer behavior within the Indian startup ecosystem.\\n\\n**II. Increased Entrepreneurial Aspirations**\\n\\nShark Tank India has democratized entrepreneurship in a way never seen before. It\\'s no longer a distant dream accessible only to a select few. The show has made the process relatable, showcasing diverse founders from various backgrounds pitching innovative solutions. The \"Sharks\" themselves, successful Indian entrepreneurs, have become overnight role models, proving that building a business is achievable. The show has also served as a crash course in startup culture, explaining business models, valuation, and the intricacies of securing funding. Take, for example, the story of several college students who launched a sustainable packaging business after being inspired by the pitches on the show, demonstrating the tangible impact on entrepreneurial action.\\n\\n**III. Impact on Investment Trends**\\n\\nShark Tank India seems to have amplified the angel investment landscape. While concrete data is still emerging, anecdotal evidence suggests a rise in first-time angel investors, inspired by the Sharks\\' on-screen decisions. The show has also shone a spotlight on sectors like sustainable products, consumer goods, and innovative food startups, potentially influencing investment trends. However, it\\'s debatable whether the show has significantly altered valuation dynamics. While some startups might have inflated expectations based on TV deals, seasoned investors likely maintain their rigorous evaluation processes. It\\'s unlikely that VC firms are solely basing decisions on Shark Tank pitches, but the show\\'s visibility undoubtedly plays a role in initial screening and awareness.\\n\\n**IV. Consumer Behavior and Brand Building**\\n\\nThe \"As Seen on Shark Tank\" phenomenon is real. Aired brands experience a significant boost in brand awareness and sales, often leading to products selling out within hours of the show airing. Appearing on the show provides invaluable marketing exposure, turning unknown brands into household names. Startups are now leveraging the show\\'s format in their marketing strategies, highlighting their pitch experience and the Sharks\\' feedback. More importantly, a deal with a Shark provides a level of trust and credibility that money can\\'t buy. Consumers perceive these businesses as vetted and reliable, leading to increased purchasing confidence.\\n\\n**V. Challenges and Criticisms**\\n\\nDespite its positive impact, Shark Tank India isn\\'t without its criticisms. The show inevitably oversimplifies the complexities of running a business, presenting a condensed version of the entrepreneurial journey. Balancing entertainment with genuine educational content is a constant challenge. There\\'s also a risk of a \"Shark Tank effect\" bubble, where hype overshadows fundamental business principles. Not every business featured on the show is guaranteed long-term success, and sustainable practices are crucial. Furthermore, some argue that the show tends to focus on startups in metro cities, potentially overlooking promising ventures from smaller towns and rural areas.\\n\\n**VI. Conclusion**\\n\\nIn conclusion, Shark Tank India has undeniably ignited an entrepreneurial spark across the nation. It has democratized entrepreneurship, influenced investment trends, and transformed consumer behavior. While challenges and criticisms exist, the \"Shark Tank effect\" has undeniably injected a new wave of energy and excitement into the Indian startup ecosystem. Aspiring entrepreneurs should draw inspiration from the show, but remember that thorough research, meticulous planning, and unwavering execution are essential for long-term success. So, watch, learn, and be inspired, but remember that building a sustainable business requires more than just a handshake on TV.'}\n"
     ]
    }
   ],
   "source": [
    "# Execute graph\n",
    "\n",
    "initial_state = {'title': 'Shark Tank effect in India'}\n",
    "final_state = workflow.invoke(initial_state)\n",
    "print(final_state)"
   ]
  },
  {
   "cell_type": "code",
   "execution_count": 42,
   "id": "43f343c4",
   "metadata": {},
   "outputs": [
    {
     "name": "stdout",
     "output_type": "stream",
     "text": [
      "Title \n",
      " Shark Tank effect in India\n",
      "Outline \n",
      " **I. Introduction**\n",
      "\n",
      "*   **Hook:** Start with a captivating statistic or anecdote about the impact of Shark Tank India on Indian entrepreneurship.\n",
      "*   **Background:** Briefly introduce Shark Tank and its global success. Explain the premise of the show.\n",
      "*   **Thesis statement:** The arrival of Shark Tank India has sparked a significant \"Shark Tank effect,\" influencing entrepreneurial aspirations, investment trends, and consumer behavior within the Indian startup ecosystem.\n",
      "\n",
      "**II. Increased Entrepreneurial Aspirations**\n",
      "\n",
      "*   **Democratization of Entrepreneurship:** Discuss how the show has made entrepreneurship more accessible and relatable to the average Indian.\n",
      "*   **Role Models:** Highlight how the \"Sharks\" have become role models, inspiring viewers to pursue their own business ventures.\n",
      "*   **Startup Culture Awareness:** Explain how the show has raised awareness about the startup culture, business models, and the process of securing funding.\n",
      "*   **Anecdotal Evidence:** Mention specific examples of people who started their businesses after being inspired by the show.\n",
      "\n",
      "**III. Impact on Investment Trends**\n",
      "\n",
      "*   **Increased Angel Investment:** Discuss if Shark Tank India has led to a rise in angel investment activity in the country.\n",
      "*   **Sectoral Focus:** Analyze whether the show has influenced investment trends towards specific sectors (e.g., consumer goods, sustainable products).\n",
      "*   **Valuation Dynamics:** Explore if the show has affected startup valuation expectations and negotiation strategies.\n",
      "*   **Show's Influence on VC firms:** Discuss whether the VC firms are taking decisions based on what is being pitched on the show.\n",
      "\n",
      "**IV. Consumer Behavior and Brand Building**\n",
      "\n",
      "*   **Increased Brand Awareness:** Explain how appearing on the show significantly boosts brand awareness and sales for participating businesses.\n",
      "*   **\"As Seen on Shark Tank\" Phenomenon:** Discuss the consumer fascination with products featured on the show and the associated purchasing behavior.\n",
      "*   **Marketing and Branding Strategies:** Analyze how the show has influenced the marketing and branding strategies of Indian startups.\n",
      "*   **Trust and Credibility:** Discuss how being validated by the \"Sharks\" provides a level of trust and credibility to a brand.\n",
      "\n",
      "**V. Challenges and Criticisms**\n",
      "\n",
      "*   **Oversimplification of Business:** Acknowledge criticisms about the show oversimplifying the complexities of running a business.\n",
      "*   **Entertainment vs. Education:** Address the balance between entertainment value and genuine educational content.\n",
      "*   **\"Shark Tank Effect\" Bubble:** Discuss the potential for a hype-driven bubble and the importance of sustainable business practices.\n",
      "*   **Focus on specific geographies:** Discuss if the show is only focused on metro cities.\n",
      "\n",
      "**VI. Conclusion**\n",
      "\n",
      "*   **Recap:** Summarize the key points about the Shark Tank effect in India.\n",
      "*   **Future Outlook:** Offer a perspective on the long-term impact of the show on the Indian startup ecosystem.\n",
      "*   **Call to Action:** Encourage aspiring entrepreneurs to learn from the show while also emphasizing the importance of thorough research, planning, and execution.\n",
      "Blog \n",
      " ## The Shark Tank Effect: Has India Caught the Entrepreneurial Bug?\n",
      "\n",
      "**I. Introduction**\n",
      "\n",
      "Did you know that applications to Indian business schools surged by up to 30% after the first season of Shark Tank India? This isn't just a coincidence; it's a powerful indicator of the \"Shark Tank effect\" sweeping across the nation. Shark Tank, a global phenomenon, presents aspiring entrepreneurs with the opportunity to pitch their business ideas to a panel of seasoned investors, the \"Sharks,\" in hopes of securing funding and mentorship. While the format has been successful internationally, its Indian adaptation has ignited a firestorm of entrepreneurial enthusiasm. The arrival of Shark Tank India has sparked a significant \"Shark Tank effect,\" influencing entrepreneurial aspirations, investment trends, and consumer behavior within the Indian startup ecosystem.\n",
      "\n",
      "**II. Increased Entrepreneurial Aspirations**\n",
      "\n",
      "Shark Tank India has democratized entrepreneurship in a way never seen before. It's no longer a distant dream accessible only to a select few. The show has made the process relatable, showcasing diverse founders from various backgrounds pitching innovative solutions. The \"Sharks\" themselves, successful Indian entrepreneurs, have become overnight role models, proving that building a business is achievable. The show has also served as a crash course in startup culture, explaining business models, valuation, and the intricacies of securing funding. Take, for example, the story of several college students who launched a sustainable packaging business after being inspired by the pitches on the show, demonstrating the tangible impact on entrepreneurial action.\n",
      "\n",
      "**III. Impact on Investment Trends**\n",
      "\n",
      "Shark Tank India seems to have amplified the angel investment landscape. While concrete data is still emerging, anecdotal evidence suggests a rise in first-time angel investors, inspired by the Sharks' on-screen decisions. The show has also shone a spotlight on sectors like sustainable products, consumer goods, and innovative food startups, potentially influencing investment trends. However, it's debatable whether the show has significantly altered valuation dynamics. While some startups might have inflated expectations based on TV deals, seasoned investors likely maintain their rigorous evaluation processes. It's unlikely that VC firms are solely basing decisions on Shark Tank pitches, but the show's visibility undoubtedly plays a role in initial screening and awareness.\n",
      "\n",
      "**IV. Consumer Behavior and Brand Building**\n",
      "\n",
      "The \"As Seen on Shark Tank\" phenomenon is real. Aired brands experience a significant boost in brand awareness and sales, often leading to products selling out within hours of the show airing. Appearing on the show provides invaluable marketing exposure, turning unknown brands into household names. Startups are now leveraging the show's format in their marketing strategies, highlighting their pitch experience and the Sharks' feedback. More importantly, a deal with a Shark provides a level of trust and credibility that money can't buy. Consumers perceive these businesses as vetted and reliable, leading to increased purchasing confidence.\n",
      "\n",
      "**V. Challenges and Criticisms**\n",
      "\n",
      "Despite its positive impact, Shark Tank India isn't without its criticisms. The show inevitably oversimplifies the complexities of running a business, presenting a condensed version of the entrepreneurial journey. Balancing entertainment with genuine educational content is a constant challenge. There's also a risk of a \"Shark Tank effect\" bubble, where hype overshadows fundamental business principles. Not every business featured on the show is guaranteed long-term success, and sustainable practices are crucial. Furthermore, some argue that the show tends to focus on startups in metro cities, potentially overlooking promising ventures from smaller towns and rural areas.\n",
      "\n",
      "**VI. Conclusion**\n",
      "\n",
      "In conclusion, Shark Tank India has undeniably ignited an entrepreneurial spark across the nation. It has democratized entrepreneurship, influenced investment trends, and transformed consumer behavior. While challenges and criticisms exist, the \"Shark Tank effect\" has undeniably injected a new wave of energy and excitement into the Indian startup ecosystem. Aspiring entrepreneurs should draw inspiration from the show, but remember that thorough research, meticulous planning, and unwavering execution are essential for long-term success. So, watch, learn, and be inspired, but remember that building a sustainable business requires more than just a handshake on TV.\n"
     ]
    }
   ],
   "source": [
    "print(f'Title \\n', final_state['title']) \n",
    "print(f'Outline \\n', final_state['outline'])\n",
    "print(f'Blog \\n', final_state['content'])"
   ]
  }
 ],
 "metadata": {
  "kernelspec": {
   "display_name": "myenv",
   "language": "python",
   "name": "python3"
  },
  "language_info": {
   "codemirror_mode": {
    "name": "ipython",
    "version": 3
   },
   "file_extension": ".py",
   "mimetype": "text/x-python",
   "name": "python",
   "nbconvert_exporter": "python",
   "pygments_lexer": "ipython3",
   "version": "3.9.6"
  }
 },
 "nbformat": 4,
 "nbformat_minor": 5
}
